{
 "cells": [
  {
   "cell_type": "code",
   "execution_count": 2,
   "metadata": {
    "executionInfo": {
     "elapsed": 2045,
     "status": "ok",
     "timestamp": 1613500202400,
     "user": {
      "displayName": "Jaskaran Singh",
      "photoUrl": "",
      "userId": "08237002510702252540"
     },
     "user_tz": -330
    },
    "id": "NBxVEwiFGkX8"
   },
   "outputs": [],
   "source": [
    "# Let printing work the same in Python 2 and 3\n",
    "from __future__ import print_function"
   ]
  },
  {
   "cell_type": "markdown",
   "metadata": {
    "id": "dprnVpAuGkYC"
   },
   "source": [
    "# NumPy\n",
    "The NumPy package provides the \"ndarray\" object. The NumPy array is used to contain data of uniform type with an arbitrary number of dimensions. NumPy then provides basic mathematical and array methods to lay down the foundation for the entire SciPy ecosystem. The following import statement is the generally accepted convention for NumPy."
   ]
  },
  {
   "cell_type": "code",
   "execution_count": 3,
   "metadata": {
    "executionInfo": {
     "elapsed": 1008,
     "status": "ok",
     "timestamp": 1613500205779,
     "user": {
      "displayName": "Jaskaran Singh",
      "photoUrl": "",
      "userId": "08237002510702252540"
     },
     "user_tz": -330
    },
    "id": "UIgxjmeUGkYD"
   },
   "outputs": [],
   "source": [
    "import numpy as np"
   ]
  },
  {
   "cell_type": "markdown",
   "metadata": {
    "id": "3NftQoxkGkYD"
   },
   "source": [
    "## Array Creation\n",
    "There are several ways to make NumPy arrays. An array has three particular attributes that can be queried: shape, size and the number of dimensions."
   ]
  },
  {
   "cell_type": "code",
   "execution_count": 4,
   "metadata": {
    "colab": {
     "base_uri": "https://localhost:8080/"
    },
    "executionInfo": {
     "elapsed": 1538,
     "status": "ok",
     "timestamp": 1613500208592,
     "user": {
      "displayName": "Jaskaran Singh",
      "photoUrl": "",
      "userId": "08237002510702252540"
     },
     "user_tz": -330
    },
    "id": "H2h19VlcGkYD",
    "outputId": "cc52c118-fb36-4763-d22a-af0d5918dc16"
   },
   "outputs": [
    {
     "name": "stdout",
     "output_type": "stream",
     "text": [
      "(3,)\n",
      "3\n",
      "1\n"
     ]
    }
   ],
   "source": [
    "a = np.array([1, 2, 3])\n",
    "print(a.shape)\n",
    "print(a.size)\n",
    "print(a.ndim)"
   ]
  },
  {
   "cell_type": "code",
   "execution_count": 10,
   "metadata": {
    "colab": {
     "base_uri": "https://localhost:8080/"
    },
    "executionInfo": {
     "elapsed": 1144,
     "status": "ok",
     "timestamp": 1613500467271,
     "user": {
      "displayName": "Jaskaran Singh",
      "photoUrl": "",
      "userId": "08237002510702252540"
     },
     "user_tz": -330
    },
    "id": "aZ7F4eGVGkYE",
    "outputId": "b699ec1f-0e78-4f01-9e21-201bb1b6aa1d"
   },
   "outputs": [
    {
     "name": "stdout",
     "output_type": "stream",
     "text": [
      "(100,)\n",
      "100\n",
      "1\n",
      "[ 0  1  2  3  4  5  6  7  8  9 10 11 12 13 14 15 16 17 18 19 20 21 22 23\n",
      " 24 25 26 27 28 29 30 31 32 33 34 35 36 37 38 39 40 41 42 43 44 45 46 47\n",
      " 48 49 50 51 52 53 54 55 56 57 58 59 60 61 62 63 64 65 66 67 68 69 70 71\n",
      " 72 73 74 75 76 77 78 79 80 81 82 83 84 85 86 87 88 89 90 91 92 93 94 95\n",
      " 96 97 98 99]\n"
     ]
    }
   ],
   "source": [
    "x = np.arange(100)\n",
    "print(x.shape)\n",
    "print(x.size)\n",
    "print(x.ndim)\n",
    "print(x)"
   ]
  },
  {
   "cell_type": "code",
   "execution_count": 14,
   "metadata": {
    "colab": {
     "base_uri": "https://localhost:8080/"
    },
    "executionInfo": {
     "elapsed": 934,
     "status": "ok",
     "timestamp": 1613500571215,
     "user": {
      "displayName": "Jaskaran Singh",
      "photoUrl": "",
      "userId": "08237002510702252540"
     },
     "user_tz": -330
    },
    "id": "vN_U-c0GGkYE",
    "outputId": "ce35580a-0547-4504-e671-dc6365505b32"
   },
   "outputs": [
    {
     "name": "stdout",
     "output_type": "stream",
     "text": [
      "(5, 80)\n",
      "400\n",
      "2\n"
     ]
    }
   ],
   "source": [
    "y = np.random.rand(5, 80)\n",
    "print(y.shape)\n",
    "print(y.size)\n",
    "print(y.ndim)"
   ]
  },
  {
   "cell_type": "markdown",
   "metadata": {
    "id": "SQoQAE2IGkYE"
   },
   "source": [
    "## Array Manipulation\n",
    "How to change the shape of an array without a copy!"
   ]
  },
  {
   "cell_type": "code",
   "execution_count": 7,
   "metadata": {
    "colab": {
     "base_uri": "https://localhost:8080/"
    },
    "executionInfo": {
     "elapsed": 1018,
     "status": "ok",
     "timestamp": 1613500259854,
     "user": {
      "displayName": "Jaskaran Singh",
      "photoUrl": "",
      "userId": "08237002510702252540"
     },
     "user_tz": -330
    },
    "id": "6DpDl55iGkYE",
    "outputId": "84994630-0503-409e-a33f-ed394268487a"
   },
   "outputs": [
    {
     "name": "stdout",
     "output_type": "stream",
     "text": [
      "[[ 0  1  2  3  4]\n",
      " [ 5  6  7  8  9]\n",
      " [10 11 12 13 14]\n",
      " [15 16 17 18 19]\n",
      " [20 21 22 23 24]\n",
      " [25 26 27 28 29]\n",
      " [30 31 32 33 34]\n",
      " [35 36 37 38 39]\n",
      " [40 41 42 43 44]\n",
      " [45 46 47 48 49]\n",
      " [50 51 52 53 54]\n",
      " [55 56 57 58 59]\n",
      " [60 61 62 63 64]\n",
      " [65 66 67 68 69]\n",
      " [70 71 72 73 74]\n",
      " [75 76 77 78 79]\n",
      " [80 81 82 83 84]\n",
      " [85 86 87 88 89]\n",
      " [90 91 92 93 94]\n",
      " [95 96 97 98 99]]\n"
     ]
    }
   ],
   "source": [
    "x.shape = (20, 5)\n",
    "print(x)"
   ]
  },
  {
   "cell_type": "markdown",
   "metadata": {
    "id": "1AouTBLOGkYF"
   },
   "source": [
    "NumPy can even automatically figure out the size of at most one dimension for you."
   ]
  },
  {
   "cell_type": "code",
   "execution_count": 9,
   "metadata": {
    "colab": {
     "base_uri": "https://localhost:8080/"
    },
    "executionInfo": {
     "elapsed": 988,
     "status": "ok",
     "timestamp": 1613500419677,
     "user": {
      "displayName": "Jaskaran Singh",
      "photoUrl": "",
      "userId": "08237002510702252540"
     },
     "user_tz": -330
    },
    "id": "n20MLSYOGkYF",
    "outputId": "93210420-c7a5-444b-b431-6a2bf0eac48b"
   },
   "outputs": [
    {
     "name": "stdout",
     "output_type": "stream",
     "text": [
      "[[[0.8621601  0.80123945 0.52687507 0.57087367 0.71318858]\n",
      "  [0.02850301 0.35080465 0.23400721 0.72270611 0.78641982]\n",
      "  [0.10817299 0.10976608 0.11370587 0.45033137 0.04310352]\n",
      "  [0.74053358 0.67422826 0.29626454 0.58790573 0.50893293]\n",
      "  [0.78466011 0.17678098 0.81854165 0.62456152 0.06952268]\n",
      "  [0.21483552 0.0189476  0.15750929 0.57091609 0.44233121]\n",
      "  [0.91632236 0.02420038 0.4864922  0.4736364  0.45234791]\n",
      "  [0.71867089 0.11881027 0.29030057 0.57772745 0.35239322]\n",
      "  [0.25476153 0.5087064  0.58162792 0.0585206  0.6119982 ]\n",
      "  [0.42988478 0.87556983 0.1642649  0.75185494 0.29502502]\n",
      "  [0.65268765 0.40367072 0.7203719  0.11584892 0.98301517]\n",
      "  [0.62736905 0.54180944 0.5359861  0.54476311 0.97987347]\n",
      "  [0.38361806 0.15153585 0.47616001 0.7393075  0.82851066]\n",
      "  [0.79618134 0.18263328 0.55853394 0.47361181 0.58858371]\n",
      "  [0.24772261 0.88920761 0.84970826 0.80504111 0.02670187]\n",
      "  [0.5573962  0.48266213 0.62712377 0.0084076  0.68050281]\n",
      "  [0.93572594 0.78751332 0.81028457 0.98050361 0.49146253]\n",
      "  [0.4746506  0.25392181 0.88763439 0.33456172 0.11299519]\n",
      "  [0.62778777 0.24125066 0.25090372 0.57163728 0.42469206]\n",
      "  [0.86266451 0.16145751 0.66646965 0.47595384 0.6631033 ]]\n",
      "\n",
      " [[0.93510841 0.1055372  0.13065578 0.19682587 0.8882394 ]\n",
      "  [0.93675659 0.72233469 0.65447872 0.15190574 0.65929209]\n",
      "  [0.49473303 0.12351922 0.81697316 0.201376   0.66025129]\n",
      "  [0.34565813 0.53598974 0.02643412 0.73776471 0.00528246]\n",
      "  [0.62586884 0.15821982 0.12725382 0.26383151 0.75392834]\n",
      "  [0.92816969 0.8186279  0.44567973 0.26555803 0.99697739]\n",
      "  [0.82055787 0.17919725 0.6983737  0.94519272 0.23622167]\n",
      "  [0.07450893 0.08365808 0.19752769 0.04473414 0.78334915]\n",
      "  [0.47875277 0.46974565 0.73590244 0.50470886 0.33975541]\n",
      "  [0.83701782 0.3397353  0.77611791 0.33793112 0.82771862]\n",
      "  [0.71888057 0.32538715 0.63759651 0.34796849 0.01600956]\n",
      "  [0.76194058 0.54600226 0.35754825 0.94642522 0.50545631]\n",
      "  [0.37239201 0.29785437 0.80558743 0.23666303 0.2226789 ]\n",
      "  [0.34671983 0.81875313 0.65058662 0.8734516  0.45778725]\n",
      "  [0.89245175 0.6253792  0.31827281 0.75261597 0.63827165]\n",
      "  [0.47866247 0.64940558 0.02097653 0.43426504 0.12564968]\n",
      "  [0.29806665 0.19094438 0.09861077 0.95042365 0.92220079]\n",
      "  [0.65846714 0.12113454 0.61344423 0.79154068 0.57741161]\n",
      "  [0.15695366 0.28213756 0.09226132 0.25784533 0.75568173]\n",
      "  [0.07045825 0.02499808 0.60525098 0.25015328 0.86750324]]\n",
      "\n",
      " [[0.92378428 0.74297778 0.37194244 0.18684026 0.66520391]\n",
      "  [0.83000875 0.90135808 0.21815148 0.71830681 0.25545758]\n",
      "  [0.81821893 0.77477043 0.5054532  0.65945456 0.27866242]\n",
      "  [0.99340074 0.17799698 0.71685195 0.22361357 0.46762215]\n",
      "  [0.58598222 0.02721895 0.09942641 0.17132953 0.76961083]\n",
      "  [0.31336255 0.76490958 0.31341114 0.00425604 0.49702956]\n",
      "  [0.10957125 0.67919478 0.821877   0.15776854 0.69638897]\n",
      "  [0.61928022 0.19152395 0.23882133 0.85057771 0.17872296]\n",
      "  [0.02336846 0.41509069 0.34572918 0.696306   0.92947573]\n",
      "  [0.37978154 0.33986117 0.32981653 0.22767431 0.2706673 ]\n",
      "  [0.95991832 0.81917953 0.17902255 0.44570144 0.05454404]\n",
      "  [0.92645304 0.50128874 0.33756018 0.58025012 0.41025484]\n",
      "  [0.01555743 0.84224642 0.81454647 0.58004457 0.36514383]\n",
      "  [0.62674042 0.90508031 0.58098415 0.6649752  0.62308736]\n",
      "  [0.73884609 0.43244284 0.44258691 0.23227074 0.36920543]\n",
      "  [0.36601995 0.08091893 0.73213334 0.26641094 0.69960281]\n",
      "  [0.49985519 0.29889571 0.0633977  0.44322101 0.87926372]\n",
      "  [0.55612644 0.16798205 0.74960955 0.86029211 0.05818599]\n",
      "  [0.41097231 0.74579471 0.32164297 0.93021257 0.6344738 ]\n",
      "  [0.70927631 0.51243583 0.96232029 0.76581104 0.457385  ]]\n",
      "\n",
      " [[0.15383192 0.39631298 0.40915888 0.52007816 0.11346434]\n",
      "  [0.93932614 0.06807082 0.046884   0.44049355 0.57438075]\n",
      "  [0.05735702 0.90229107 0.41503154 0.25859044 0.74000933]\n",
      "  [0.86504462 0.98366031 0.74012841 0.95918531 0.22362624]\n",
      "  [0.16971502 0.24552264 0.80349612 0.9045879  0.26586217]\n",
      "  [0.07725987 0.28248492 0.73970333 0.06614466 0.2066669 ]\n",
      "  [0.14687893 0.26882439 0.83775907 0.77315916 0.06495306]\n",
      "  [0.25698188 0.73905681 0.92684761 0.35655119 0.95829156]\n",
      "  [0.84462496 0.95908011 0.89980501 0.41718475 0.88195267]\n",
      "  [0.11694681 0.90724281 0.97222685 0.17680805 0.61990153]\n",
      "  [0.08998478 0.61117662 0.31802097 0.537579   0.03803557]\n",
      "  [0.70228656 0.39807328 0.76696099 0.34169685 0.80335174]\n",
      "  [0.81103462 0.92060773 0.72033834 0.66626055 0.84819915]\n",
      "  [0.83468171 0.44277691 0.11099556 0.59220485 0.04967171]\n",
      "  [0.89444885 0.86112304 0.00971481 0.40025291 0.27029364]\n",
      "  [0.56755048 0.45909129 0.23437368 0.17872052 0.98812366]\n",
      "  [0.46439364 0.71495894 0.9751771  0.67755569 0.85138714]\n",
      "  [0.86276628 0.9143885  0.15867431 0.66310069 0.38168842]\n",
      "  [0.49766408 0.82967312 0.31939531 0.96271491 0.00663166]\n",
      "  [0.02272231 0.44896018 0.89099707 0.31338537 0.92240687]]]\n"
     ]
    }
   ],
   "source": [
    "y.shape = (4, 20, -1)\n",
    "print(y)"
   ]
  },
  {
   "cell_type": "markdown",
   "metadata": {
    "id": "ZrYveB4OGkYF"
   },
   "source": [
    "## Array Indexing"
   ]
  },
  {
   "cell_type": "code",
   "execution_count": 15,
   "metadata": {
    "colab": {
     "base_uri": "https://localhost:8080/"
    },
    "executionInfo": {
     "elapsed": 972,
     "status": "ok",
     "timestamp": 1613500626869,
     "user": {
      "displayName": "Jaskaran Singh",
      "photoUrl": "",
      "userId": "08237002510702252540"
     },
     "user_tz": -330
    },
    "id": "dfNUxt3cGkYF",
    "outputId": "dc4a38eb-9767-407e-c193-41fd376b2ad5"
   },
   "outputs": [
    {
     "name": "stdout",
     "output_type": "stream",
     "text": [
      "2\n"
     ]
    }
   ],
   "source": [
    "# Scalar Indexing\n",
    "print(x[2])"
   ]
  },
  {
   "cell_type": "code",
   "execution_count": 16,
   "metadata": {
    "colab": {
     "base_uri": "https://localhost:8080/"
    },
    "executionInfo": {
     "elapsed": 975,
     "status": "ok",
     "timestamp": 1613500632947,
     "user": {
      "displayName": "Jaskaran Singh",
      "photoUrl": "",
      "userId": "08237002510702252540"
     },
     "user_tz": -330
    },
    "id": "4mbd9wPTGkYG",
    "outputId": "7ffaea5c-8940-42ed-bf78-2f2477cc89c1"
   },
   "outputs": [
    {
     "name": "stdout",
     "output_type": "stream",
     "text": [
      "[2 3 4]\n"
     ]
    }
   ],
   "source": [
    "# Slicing\n",
    "print(x[2:5])"
   ]
  },
  {
   "cell_type": "code",
   "execution_count": 17,
   "metadata": {
    "colab": {
     "base_uri": "https://localhost:8080/"
    },
    "executionInfo": {
     "elapsed": 976,
     "status": "ok",
     "timestamp": 1613500638437,
     "user": {
      "displayName": "Jaskaran Singh",
      "photoUrl": "",
      "userId": "08237002510702252540"
     },
     "user_tz": -330
    },
    "id": "DlSBlhKkGkYG",
    "outputId": "2a4933d7-13b7-4506-b633-08e163159888"
   },
   "outputs": [
    {
     "name": "stdout",
     "output_type": "stream",
     "text": [
      "First 5 rows\n",
      " [0 1 2 3 4]\n",
      "Row 18 to the end\n",
      " [18 19 20 21 22 23 24 25 26 27 28 29 30 31 32 33 34 35 36 37 38 39 40 41\n",
      " 42 43 44 45 46 47 48 49 50 51 52 53 54 55 56 57 58 59 60 61 62 63 64 65\n",
      " 66 67 68 69 70 71 72 73 74 75 76 77 78 79 80 81 82 83 84 85 86 87 88 89\n",
      " 90 91 92 93 94 95 96 97 98 99]\n",
      "Last 5 rows\n",
      " [95 96 97 98 99]\n",
      "Reverse the rows\n",
      " [99 98 97 96 95 94 93 92 91 90 89 88 87 86 85 84 83 82 81 80 79 78 77 76\n",
      " 75 74 73 72 71 70 69 68 67 66 65 64 63 62 61 60 59 58 57 56 55 54 53 52\n",
      " 51 50 49 48 47 46 45 44 43 42 41 40 39 38 37 36 35 34 33 32 31 30 29 28\n",
      " 27 26 25 24 23 22 21 20 19 18 17 16 15 14 13 12 11 10  9  8  7  6  5  4\n",
      "  3  2  1  0]\n"
     ]
    }
   ],
   "source": [
    "# Advanced slicing\n",
    "print(\"First 5 rows\\n\", x[:5])\n",
    "print(\"Row 18 to the end\\n\", x[18:])\n",
    "print(\"Last 5 rows\\n\", x[-5:])\n",
    "print(\"Reverse the rows\\n\", x[::-1])"
   ]
  },
  {
   "cell_type": "code",
   "execution_count": null,
   "metadata": {
    "id": "yTxyx82QGkYG"
   },
   "outputs": [],
   "source": [
    "# Boolean Indexing\n",
    "print(x[(x % 2) == 0])"
   ]
  },
  {
   "cell_type": "code",
   "execution_count": null,
   "metadata": {
    "id": "ttH357TiGkYH"
   },
   "outputs": [],
   "source": [
    "# Fancy Indexing -- Note the use of a list, not tuple!\n",
    "print(x[[1, 3, 8, 9, 2]])"
   ]
  },
  {
   "cell_type": "markdown",
   "metadata": {
    "id": "s8eiNE_jGkYH"
   },
   "source": [
    "## Broadcasting\n",
    "Broadcasting is a very useful feature of NumPy that will let arrays with differing shapes still be used together. In most cases, broadcasting is faster, and it is more memory efficient than the equivalent full array operation."
   ]
  },
  {
   "cell_type": "code",
   "execution_count": null,
   "metadata": {
    "collapsed": true,
    "id": "IZNqOZbvGkYI"
   },
   "outputs": [],
   "source": [
    "print(\"Shape of X:\", x.shape)\n",
    "print(\"Shape of Y:\", y.shape)"
   ]
  },
  {
   "cell_type": "markdown",
   "metadata": {
    "id": "SMvus3tJGkYI"
   },
   "source": [
    "Now, here are three identical assignments. The first one takes full advantage of broadcasting by allowing NumPy to automatically add a new dimension to the *left*. The second explicitly adds that dimension with the special NumPy alias \"np.newaxis\". These first two creates a singleton dimension without any new arrays being created. That singleton dimension is then implicitly tiled, much like the third example to match with the RHS of the addition operator. However, unlike the third example, the broadcasting merely re-uses the existing data in memory."
   ]
  },
  {
   "cell_type": "code",
   "execution_count": null,
   "metadata": {
    "id": "Tb1PvDFCGkYI"
   },
   "outputs": [],
   "source": [
    "a = x + y\n",
    "print(a.shape)\n",
    "b = x[np.newaxis, :, :] + y\n",
    "print(b.shape)\n",
    "c = np.tile(x, (4, 1, 1)) + y\n",
    "print(c.shape)\n",
    "print(\"Are a and b identical?\", np.all(a == b))\n",
    "print(\"Are a and c identical?\", np.all(a == c))"
   ]
  },
  {
   "cell_type": "markdown",
   "metadata": {
    "id": "ycbDBWvAGkYJ"
   },
   "source": [
    "Another example of broadcasting two 1-D arrays to make a 2-D array."
   ]
  },
  {
   "cell_type": "code",
   "execution_count": null,
   "metadata": {
    "id": "vl1-O3nLGkYJ"
   },
   "outputs": [],
   "source": [
    "x = np.arange(-5, 5, 0.1)\n",
    "y = np.arange(-8, 8, 0.25)\n",
    "print(x.shape, y.shape)\n",
    "z = x[np.newaxis, :] * y[:, np.newaxis]\n",
    "print(z.shape)"
   ]
  },
  {
   "cell_type": "code",
   "execution_count": null,
   "metadata": {
    "id": "X26YhFR0GkYJ"
   },
   "outputs": [],
   "source": [
    "# More concisely\n",
    "y, x = np.ogrid[-8:8:0.25, -5:5:0.1]\n",
    "print(x.shape, y.shape)\n",
    "z = x * y\n",
    "print(z.shape)"
   ]
  }
 ],
 "metadata": {
  "colab": {
   "name": "AnatomyOfMatplotlib-Part0-Intro2NumPy.ipynb",
   "provenance": []
  },
  "kernelspec": {
   "display_name": "Python 3",
   "language": "python",
   "name": "python3"
  },
  "language_info": {
   "codemirror_mode": {
    "name": "ipython",
    "version": 3
   },
   "file_extension": ".py",
   "mimetype": "text/x-python",
   "name": "python",
   "nbconvert_exporter": "python",
   "pygments_lexer": "ipython3",
   "version": "3.7.10"
  }
 },
 "nbformat": 4,
 "nbformat_minor": 1
}
