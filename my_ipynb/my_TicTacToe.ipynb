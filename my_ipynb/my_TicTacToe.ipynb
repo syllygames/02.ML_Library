{
 "cells": [
  {
   "cell_type": "code",
   "execution_count": 1,
   "metadata": {},
   "outputs": [],
   "source": [
    "from IPython.display import clear_output"
   ]
  },
  {
   "cell_type": "code",
   "execution_count": 2,
   "metadata": {},
   "outputs": [],
   "source": [
    "def player_choice():\n",
    "    '''\n",
    "    put the docstring here. good case would be atleast show the output format.\n",
    "    other things can also be mentioned.\n",
    "    '''\n",
    "    while True:\n",
    "        marker = input(\"Player 1 pick your marker, X or O:: \")\n",
    "        if marker.lower() =='x' or marker.lower()=='o':\n",
    "            break\n",
    "        else:\n",
    "            print(\"Invalid input!!\\n\")\n",
    "            continue\n",
    "            clear_output()\n",
    "\n",
    "    if marker.lower() =='x':\n",
    "        print(\"Player 1 chooses to play with \\\"X\\\" \")\n",
    "        return ('X', 'O')\n",
    "        \n",
    "    else: \n",
    "        print(\"Player 1 chooses to play with \\\"O\\\" \")\n",
    "        return ('O', 'X')"
   ]
  },
  {
   "cell_type": "code",
   "execution_count": 3,
   "metadata": {},
   "outputs": [],
   "source": [
    "def player_input():\n",
    "    while True:\n",
    "        position = input(\"put your marker at a position from 1 - 9: \\n\")\n",
    "        if not position.isdigit():\n",
    "            print(\"invalid input type!!\")\n",
    "            continue\n",
    "        elif int(position) not in range(1,10):\n",
    "            print(\"invalid input!!\")\n",
    "            continue\n",
    "        else:\n",
    "            return int(position)\n",
    "        \n",
    "        \n",
    "# def player_input(board):\n",
    "#     position = 0\n",
    "    \n",
    "#     while position not in [1,2,3,4,5,6,7,8,9] or not space_check(board, position):\n",
    "#         position = int(input('Choose your next position: (1-9) '))\n",
    "        \n",
    "#     return position\n",
    "    "
   ]
  },
  {
   "cell_type": "code",
   "execution_count": 4,
   "metadata": {},
   "outputs": [],
   "source": [
    "def display_board(board):\n",
    "    clear_output()\n",
    "\n",
    "    print(f\"\"\"\n",
    " {board[7]}  | {board[8]} | {board[9]}\n",
    "-------------\n",
    " {board[4]}  | {board[5]} | {board[6]}\n",
    "-------------\n",
    " {board[1]}  | {board[2]} | {board[3]}\n",
    " \n",
    "\"\"\")"
   ]
  },
  {
   "cell_type": "code",
   "execution_count": 5,
   "metadata": {},
   "outputs": [
    {
     "name": "stdout",
     "output_type": "stream",
     "text": [
      "\n",
      " X  | O | X\n",
      "-------------\n",
      " O  | X | O\n",
      "-------------\n",
      " X  | O | X\n",
      " \n",
      "\n"
     ]
    }
   ],
   "source": [
    "test_board1 = ['#','X','O','X','O','X','O','X','O','X']\n",
    "mydict = {}\n",
    "for i in range(1, 10):\n",
    "    mydict[i] =test_board1[i]\n",
    "display_board(mydict)"
   ]
  },
  {
   "cell_type": "code",
   "execution_count": 6,
   "metadata": {},
   "outputs": [],
   "source": [
    "def place_marker(board, marker, position):\n",
    "    board[position] = marker"
   ]
  },
  {
   "cell_type": "code",
   "execution_count": 7,
   "metadata": {},
   "outputs": [],
   "source": [
    "def space_check(board, position):\n",
    "    return board[position] == position    "
   ]
  },
  {
   "cell_type": "code",
   "execution_count": 8,
   "metadata": {},
   "outputs": [],
   "source": [
    "def full_board_check(board):\n",
    "    for i in board:\n",
    "        if board[i] == i:\n",
    "            return False\n",
    "    else: \n",
    "        return True\n",
    "        "
   ]
  },
  {
   "cell_type": "code",
   "execution_count": 9,
   "metadata": {},
   "outputs": [],
   "source": [
    "def win_check(board,mark):\n",
    "    \n",
    "    return ((board[7] == mark and board[8] == mark and board[9] == mark) or # across the top\n",
    "            (board[4] == mark and board[5] == mark and board[6] == mark) or # across the middle\n",
    "            (board[1] == mark and board[2] == mark and board[3] == mark) or # across the bottom\n",
    "            (board[7] == mark and board[4] == mark and board[1] == mark) or # down the middle\n",
    "            (board[8] == mark and board[5] == mark and board[2] == mark) or # down the middle\n",
    "            (board[9] == mark and board[6] == mark and board[3] == mark) or # down the right side\n",
    "            (board[7] == mark and board[5] == mark and board[3] == mark) or # diagonal\n",
    "            (board[9] == mark and board[5] == mark and board[1] == mark)) # diagonal"
   ]
  },
  {
   "cell_type": "code",
   "execution_count": 10,
   "metadata": {},
   "outputs": [],
   "source": [
    "def replay():\n",
    "    return input(\"replay? yes or no: \".lower().startswith('y'))"
   ]
  },
  {
   "cell_type": "code",
   "execution_count": 14,
   "metadata": {},
   "outputs": [],
   "source": [
    "def play_game():\n",
    "    print(\"Welcome to the game !!!\")\n",
    "\n",
    "    board = {}\n",
    "    for i in list(range(1,10)):\n",
    "        board[i] =  i\n",
    "    player1, player2 = player_choice()\n",
    "\n",
    "    turn = \"P1\"    # player1 is playing.\n",
    "    while True:\n",
    "\n",
    "        play_game = input(\"Ready: yes or no?\\n\")\n",
    "        if play_game[0].lower() ==\"y\":\n",
    "            game_on = True\n",
    "        else:\n",
    "            game_on = False\n",
    "\n",
    "        while game_on:\n",
    "            if turn == \"P1\":\n",
    "                display_board(board)\n",
    "                position = player_input()\n",
    "                if board[position] != position:\n",
    "                    continue\n",
    "                place_marker(board, player1, position)\n",
    "\n",
    "                if win_check(board, player1):\n",
    "                    display_board(board)\n",
    "                    print(f\"player 1 has won. playin with {player1}\")\n",
    "                    game_on = False\n",
    "                elif full_board_check(board):\n",
    "                    display_board(board)\n",
    "                    print(\"game is draw\")\n",
    "                    game_on = False\n",
    "                else:\n",
    "                    turn = \"P2\"\n",
    "            elif turn == \"P2\":\n",
    "                display_board(board)\n",
    "                position = player_input()\n",
    "                if board[position] != position:\n",
    "                    continue\n",
    "                place_marker(board, player2, position)\n",
    "\n",
    "                if win_check(board, player2):\n",
    "                    display_board(board)\n",
    "                    print(f\"player 2 has won. was playing with {player2}\")\n",
    "                    game_on = False\n",
    "                elif full_board_check(board):\n",
    "                    display_board(board)\n",
    "                    print(\"game is draw\")\n",
    "                    game_on = False\n",
    "                else:\n",
    "                    turn = \"P1\"\n",
    "        if not replay():\n",
    "            break"
   ]
  },
  {
   "cell_type": "code",
   "execution_count": null,
   "metadata": {},
   "outputs": [
    {
     "name": "stdout",
     "output_type": "stream",
     "text": [
      "\n",
      " 7  | 8 | 9\n",
      "-------------\n",
      " O  | O | 6\n",
      "-------------\n",
      " X  | X | X\n",
      " \n",
      "\n",
      "player 1 has won. playin with X\n",
      "Falsef\n"
     ]
    }
   ],
   "source": [
    "play_game()"
   ]
  },
  {
   "cell_type": "code",
   "execution_count": null,
   "metadata": {},
   "outputs": [],
   "source": []
  }
 ],
 "metadata": {
  "kernelspec": {
   "display_name": "Python 3",
   "language": "python",
   "name": "python3"
  },
  "language_info": {
   "codemirror_mode": {
    "name": "ipython",
    "version": 3
   },
   "file_extension": ".py",
   "mimetype": "text/x-python",
   "name": "python",
   "nbconvert_exporter": "python",
   "pygments_lexer": "ipython3",
   "version": "3.7.5"
  }
 },
 "nbformat": 4,
 "nbformat_minor": 2
}
