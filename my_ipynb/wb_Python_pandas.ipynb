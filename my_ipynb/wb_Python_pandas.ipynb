{
 "cells": [
  {
   "cell_type": "code",
   "execution_count": null,
   "id": "2c1a5b0f",
   "metadata": {},
   "outputs": [],
   "source": [
    "import pandas as pd\n",
    "import numpy as np\n",
    "import seaborn as sns\n",
    "import matplotlib.pyplot as plt\n",
    "from IPython.core.interactiveshell import InteractiveShell\n",
    "InteractiveShell.ast_node_interactivity = \"all\"\n",
    "%matplotlib inline\n",
    "import warnings\n",
    "warnings.filterwarnings(\"ignore\")"
   ]
  },
  {
   "cell_type": "code",
   "execution_count": null,
   "id": "77aa72df",
   "metadata": {},
   "outputs": [],
   "source": [
    "pd.set_option(\"display.max_columns\", 10)\n",
    "# pd.reset_option(\"display.max_columns\")"
   ]
  },
  {
   "cell_type": "code",
   "execution_count": null,
   "id": "9432e516",
   "metadata": {},
   "outputs": [],
   "source": [
    "path = \"D:\\\\01\\\\Machine_Learning_DineshKumar_book\\\\Data\\\\IPL IMB381IPL2013.csv\""
   ]
  },
  {
   "cell_type": "code",
   "execution_count": null,
   "id": "fba7ec1b",
   "metadata": {},
   "outputs": [],
   "source": [
    "df = pd.read_csv(path)\n",
    "df.head()"
   ]
  },
  {
   "cell_type": "markdown",
   "id": "577eea3e",
   "metadata": {},
   "source": [
    "## summary"
   ]
  },
  {
   "cell_type": "code",
   "execution_count": null,
   "id": "817831be",
   "metadata": {},
   "outputs": [],
   "source": [
    "df.ndim\n",
    "df.shape\n",
    "df.axes\n",
    "len(df.axes)\n",
    "df.index\n",
    "df.columns"
   ]
  },
  {
   "cell_type": "code",
   "execution_count": null,
   "id": "be50c061",
   "metadata": {},
   "outputs": [],
   "source": [
    "# df.select_dtypes(include = 'object')\n",
    "df.info()\n",
    "df.dtypes\n",
    "df.count()\n",
    "df.nunique()"
   ]
  },
  {
   "cell_type": "code",
   "execution_count": null,
   "id": "9cf1be7c",
   "metadata": {},
   "outputs": [],
   "source": [
    "df.describe()\n",
    "df.describe().transpose()"
   ]
  },
  {
   "cell_type": "code",
   "execution_count": null,
   "id": "b7b8a54c",
   "metadata": {},
   "outputs": [],
   "source": [
    "df[\"AGE\"].nunique()\n",
    "df[\"AGE\"].unique()\n",
    "df[\"AGE\"].value_counts()"
   ]
  },
  {
   "cell_type": "code",
   "execution_count": null,
   "id": "010e93c8",
   "metadata": {},
   "outputs": [],
   "source": [
    "df[\"AGE\"].value_counts(normalize = True)\n",
    "df[\"AGE\"].value_counts(normalize = True).plot.bar(title = 'Loan_Status')"
   ]
  },
  {
   "cell_type": "code",
   "execution_count": null,
   "id": "3ad05d7d",
   "metadata": {},
   "outputs": [],
   "source": []
  },
  {
   "cell_type": "code",
   "execution_count": null,
   "id": "89384c83",
   "metadata": {},
   "outputs": [],
   "source": [
    "df.columns = df.columns.str.upper().str.replace(\" \", \"_\")"
   ]
  },
  {
   "cell_type": "code",
   "execution_count": null,
   "id": "81191b76",
   "metadata": {},
   "outputs": [],
   "source": [
    "df[:4]\n",
    "df.tail()"
   ]
  },
  {
   "cell_type": "code",
   "execution_count": null,
   "id": "09d5f3a8",
   "metadata": {},
   "outputs": [],
   "source": [
    "df[ [\"AGE\", \"PLAYER_NAME\", \"BASE_PRICE\",\"SOLD_PRICE\" ] ][0:5]"
   ]
  },
  {
   "cell_type": "code",
   "execution_count": null,
   "id": "63f7b61b",
   "metadata": {},
   "outputs": [],
   "source": [
    "df.iloc[[1,7,8], [5,5]]\n",
    "df.iloc[[1,4,2],1:5]\n"
   ]
  },
  {
   "cell_type": "code",
   "execution_count": null,
   "id": "4cec4aec",
   "metadata": {},
   "outputs": [],
   "source": [
    "pd.crosstab(df[\"AGE\"], df[df.columns[3]])"
   ]
  },
  {
   "cell_type": "code",
   "execution_count": null,
   "id": "0fdfa929",
   "metadata": {},
   "outputs": [],
   "source": [
    "df[[\"PLAYER_NAME\", \"SOLD_PRICE\"]].sort_values(\"SOLD_PRICE\")"
   ]
  },
  {
   "cell_type": "code",
   "execution_count": null,
   "id": "68e3a023",
   "metadata": {},
   "outputs": [],
   "source": [
    "df.head()\n",
    "df[\"PREMIUM\"] = df[\"SOLD_PRICE\"]- df[\"BASE_PRICE\"]"
   ]
  },
  {
   "cell_type": "code",
   "execution_count": null,
   "id": "79bc6b58",
   "metadata": {},
   "outputs": [],
   "source": [
    "df.iloc[:, [1, -3,-2, -1]].sort_values(\"PREMIUM\", ascending = False)"
   ]
  },
  {
   "cell_type": "code",
   "execution_count": null,
   "id": "42e2c0c7",
   "metadata": {},
   "outputs": [],
   "source": [
    "group_age = df.groupby(\"AGE\")"
   ]
  },
  {
   "cell_type": "code",
   "execution_count": null,
   "id": "76aff169",
   "metadata": {},
   "outputs": [],
   "source": [
    "type(group_age[\"SOLD_PRICE\"].mean())\n",
    "type(group_age[\"SOLD_PRICE\"].mean().reset_index())"
   ]
  },
  {
   "cell_type": "code",
   "execution_count": null,
   "id": "a63c8236",
   "metadata": {},
   "outputs": [],
   "source": [
    "group_age[\"SOLD_PRICE\"].mean()"
   ]
  },
  {
   "cell_type": "code",
   "execution_count": null,
   "id": "f13ade04",
   "metadata": {},
   "outputs": [],
   "source": [
    "group_age[\"SOLD_PRICE\"].mean().reset_index()"
   ]
  },
  {
   "cell_type": "code",
   "execution_count": null,
   "id": "c6fd684b",
   "metadata": {},
   "outputs": [],
   "source": [
    "group_age.groups\n",
    "group_age.agg([\"mean\", \"count\", \"sum\"])"
   ]
  },
  {
   "cell_type": "code",
   "execution_count": null,
   "id": "3c6b80ec",
   "metadata": {},
   "outputs": [],
   "source": [
    "df2 = group_age[\"SOLD_PRICE\"].mean().reset_index()"
   ]
  },
  {
   "cell_type": "code",
   "execution_count": null,
   "id": "772705dd",
   "metadata": {},
   "outputs": [],
   "source": [
    "df.merge(df2, how = \"outer\", on =\"AGE\").head().transpose()"
   ]
  },
  {
   "cell_type": "code",
   "execution_count": null,
   "id": "e2a64fea",
   "metadata": {},
   "outputs": [],
   "source": [
    "df.info()"
   ]
  },
  {
   "cell_type": "code",
   "execution_count": null,
   "id": "53bcbc46",
   "metadata": {},
   "outputs": [],
   "source": [
    "df.head()\n"
   ]
  },
  {
   "cell_type": "code",
   "execution_count": null,
   "id": "00ea8bc0",
   "metadata": {},
   "outputs": [],
   "source": []
  },
  {
   "cell_type": "code",
   "execution_count": null,
   "id": "0cbcba57",
   "metadata": {},
   "outputs": [],
   "source": [
    "[col for col in df.columns.tolist() if col not in df.describe().columns.tolist()]"
   ]
  },
  {
   "cell_type": "code",
   "execution_count": null,
   "id": "13e917ac",
   "metadata": {},
   "outputs": [],
   "source": [
    "df.rank()"
   ]
  },
  {
   "cell_type": "code",
   "execution_count": null,
   "id": "16fa04e9",
   "metadata": {},
   "outputs": [],
   "source": []
  },
  {
   "cell_type": "code",
   "execution_count": null,
   "id": "a952e691",
   "metadata": {},
   "outputs": [],
   "source": []
  },
  {
   "cell_type": "code",
   "execution_count": null,
   "id": "c7503efb",
   "metadata": {},
   "outputs": [],
   "source": [
    "path = \"D:\\\\myDownloads\\\\employees.csv\"\n",
    "df = pd.read_csv(path)\n"
   ]
  },
  {
   "cell_type": "code",
   "execution_count": null,
   "id": "683c1084",
   "metadata": {},
   "outputs": [],
   "source": [
    "df.info()"
   ]
  },
  {
   "cell_type": "code",
   "execution_count": null,
   "id": "77abce75",
   "metadata": {},
   "outputs": [],
   "source": [
    "df_bool = df['Gender'].isnull()\n",
    "df[df_bool]"
   ]
  },
  {
   "cell_type": "code",
   "execution_count": null,
   "id": "403b90a3",
   "metadata": {},
   "outputs": [],
   "source": [
    "df"
   ]
  },
  {
   "cell_type": "code",
   "execution_count": null,
   "id": "aedca0a0",
   "metadata": {},
   "outputs": [],
   "source": []
  },
  {
   "cell_type": "code",
   "execution_count": null,
   "id": "449e6eec",
   "metadata": {},
   "outputs": [],
   "source": []
  },
  {
   "cell_type": "code",
   "execution_count": null,
   "id": "75acad2d",
   "metadata": {},
   "outputs": [],
   "source": [
    "a = np.array([\"foo\", \"foo\", \"foo\", \"foo\",\n",
    "                 \"bar\", \"bar\", \"bar\", \"bar\",\n",
    "                 \"foo\", \"foo\", \"foo\"],\n",
    "                dtype=object)\n",
    "  \n",
    "b = np.array([\"one\", \"one\", \"one\", \"two\",\n",
    "                 \"one\", \"one\", \"one\", \"two\",\n",
    "                 \"two\", \"two\", \"one\"],\n",
    "                dtype=object)\n",
    "  \n",
    "c = np.array([\"dull\", \"dull\", \"shiny\",\n",
    "                 \"dull\", \"dull\", \"shiny\",\n",
    "                 \"shiny\", \"dull\", \"shiny\",\n",
    "                 \"shiny\", \"shiny\"],\n",
    "                dtype=object)"
   ]
  },
  {
   "cell_type": "code",
   "execution_count": null,
   "id": "b95b1d32",
   "metadata": {},
   "outputs": [],
   "source": [
    "pd.crosstab(a, [b, c], rownames=['a'], colnames=['b', 'c'])"
   ]
  },
  {
   "cell_type": "code",
   "execution_count": null,
   "id": "ba82a0cf",
   "metadata": {},
   "outputs": [],
   "source": [
    "df1 = pd.DataFrame(\n",
    "    {\n",
    "        \"A\": [\"A0\", \"A1\", \"A2\", \"A3\"],\n",
    "\n",
    "        \"B\": [\"B0\", \"B1\", \"B2\", \"B3\"],\n",
    "\n",
    "        \"C\": [\"C0\", \"C1\", \"C2\", \"C3\"],\n",
    "\n",
    "        \"D\": [\"D0\", \"D1\", \"D2\", \"D3\"],\n",
    "    },\n",
    "    index=[0, 1, 2, 3],)\n",
    "df2 = pd.DataFrame(\n",
    "    {\n",
    "\n",
    "        \"A\": [\"A4\", \"A5\", \"A6\", \"A7\"],\n",
    "\n",
    "        \"B\": [\"B4\", \"B5\", \"B6\", \"B7\"],\n",
    "\n",
    "        \"C\": [\"C4\", \"C5\", \"C6\", \"C7\"],\n",
    "\n",
    "        \"D\": [\"D4\", \"D5\", \"D6\", \"D7\"],\n",
    "\n",
    "    },\n",
    "\n",
    "    index=[4, 5, 6, 7],\n",
    "\n",
    ")\n",
    "\n",
    "\n",
    "\n",
    "df3 = pd.DataFrame(\n",
    "\n",
    "    {\n",
    "\n",
    "        \"A\": [\"A8\", \"A9\", \"A10\", \"A11\"],\n",
    "\n",
    "        \"B\": [\"B8\", \"B9\", \"B10\", \"B11\"],\n",
    "\n",
    "        \"C\": [\"C8\", \"C9\", \"C10\", \"C11\"],\n",
    "\n",
    "        \"D\": [\"D8\", \"D9\", \"D10\", \"D11\"],\n",
    "        \"e\": [\"e8\", \"e9\", \"e10\", \"e11\"],\n",
    "    },\n",
    "        index=[4, 5, 6, 7]\n",
    "\n",
    ")\n",
    "\n",
    "\n"
   ]
  },
  {
   "cell_type": "code",
   "execution_count": null,
   "id": "7e9ce221",
   "metadata": {},
   "outputs": [],
   "source": [
    "\n",
    "frames = [df1, df2, df3]\n",
    "frames"
   ]
  },
  {
   "cell_type": "code",
   "execution_count": null,
   "id": "a2c1ef04",
   "metadata": {},
   "outputs": [],
   "source": [
    "pd.concat(frames, ignore_index = False,keys=[\"x\", \"y\", \"z\"])\n"
   ]
  },
  {
   "cell_type": "code",
   "execution_count": null,
   "id": "755e63c7",
   "metadata": {},
   "outputs": [],
   "source": [
    "pd.concat(frames, ignore_index = False,keys=[\"x\", \"y\", \"z\"], axis =1)\n"
   ]
  },
  {
   "cell_type": "code",
   "execution_count": null,
   "id": "fd975b89",
   "metadata": {},
   "outputs": [],
   "source": [
    "pd.concat(frames, ignore_index = True, axis =1)"
   ]
  },
  {
   "cell_type": "code",
   "execution_count": null,
   "id": "0c365fe7",
   "metadata": {},
   "outputs": [],
   "source": [
    "df1.append(df2)"
   ]
  },
  {
   "cell_type": "code",
   "execution_count": null,
   "id": "0328c483",
   "metadata": {},
   "outputs": [],
   "source": [
    "df1['e'] = [1,2,3,4]"
   ]
  },
  {
   "cell_type": "code",
   "execution_count": null,
   "id": "8709ce68",
   "metadata": {},
   "outputs": [],
   "source": [
    "df1.where(df1['e'] >2,10)"
   ]
  },
  {
   "cell_type": "code",
   "execution_count": null,
   "id": "4a876ba5",
   "metadata": {},
   "outputs": [],
   "source": [
    "df1.mask(df1['e'] >2,10)"
   ]
  },
  {
   "cell_type": "code",
   "execution_count": null,
   "id": "2b30a072",
   "metadata": {},
   "outputs": [],
   "source": [
    "np.where(df1['e'] >2,20,100).all()"
   ]
  },
  {
   "cell_type": "code",
   "execution_count": null,
   "id": "ed4c8271",
   "metadata": {},
   "outputs": [],
   "source": [
    "s = pd.Series(range(5), index=pd.date_range('2020-01-01', periods=5, freq='1D'))\n",
    "\n",
    "s.rolling(window='2D').sum()"
   ]
  },
  {
   "cell_type": "code",
   "execution_count": null,
   "id": "7b588633",
   "metadata": {},
   "outputs": [],
   "source": [
    "my_tuple = ('a', 'p', 'p', 'l', 'e',)"
   ]
  },
  {
   "cell_type": "code",
   "execution_count": null,
   "id": "6f4dd61f",
   "metadata": {},
   "outputs": [],
   "source": [
    "fruits = (\"apple\", \"banana\", \"cherry\", \"strawberry\", \"raspberry\")"
   ]
  },
  {
   "cell_type": "code",
   "execution_count": null,
   "id": "ed7f0895",
   "metadata": {},
   "outputs": [],
   "source": [
    "my_set = set([1, 2, 3, 2])\n",
    "print(my_set)\n",
    "type(my_set)\n",
    "len(my_set)"
   ]
  },
  {
   "cell_type": "code",
   "execution_count": null,
   "id": "402181c7",
   "metadata": {},
   "outputs": [],
   "source": [
    "my_set = {1, 3}\n",
    "print(my_set)"
   ]
  },
  {
   "cell_type": "code",
   "execution_count": null,
   "id": "d9873404",
   "metadata": {},
   "outputs": [],
   "source": [
    "my_set.add(2)\n",
    "print(my_set)"
   ]
  },
  {
   "cell_type": "code",
   "execution_count": null,
   "id": "e861dce0",
   "metadata": {},
   "outputs": [],
   "source": [
    "my_set.update([12,1233,1234])\n",
    "print(my_set)"
   ]
  },
  {
   "cell_type": "code",
   "execution_count": null,
   "id": "19cf22b0",
   "metadata": {},
   "outputs": [],
   "source": [
    "my_set.update((212,21233,21234))\n",
    "print(my_set)"
   ]
  },
  {
   "cell_type": "code",
   "execution_count": null,
   "id": "cc09c08b",
   "metadata": {},
   "outputs": [],
   "source": [
    "my_set.update({1.1,1.2,1.3})\n",
    "print(my_set)"
   ]
  },
  {
   "cell_type": "code",
   "execution_count": null,
   "id": "fae596a8",
   "metadata": {},
   "outputs": [],
   "source": [
    "my_dict = dict({1:'apple', 2:'ball'})"
   ]
  },
  {
   "cell_type": "code",
   "execution_count": null,
   "id": "352a22e7",
   "metadata": {},
   "outputs": [],
   "source": [
    "my_dict"
   ]
  },
  {
   "cell_type": "code",
   "execution_count": null,
   "id": "3732748c",
   "metadata": {},
   "outputs": [],
   "source": [
    "squares = {1: 1, 2: 4, 3: 9, 4: 16, 5: 25}"
   ]
  },
  {
   "cell_type": "code",
   "execution_count": null,
   "id": "a4f941ea",
   "metadata": {},
   "outputs": [],
   "source": [
    "squares.pop(2)"
   ]
  },
  {
   "cell_type": "code",
   "execution_count": null,
   "id": "ef15919f",
   "metadata": {},
   "outputs": [],
   "source": [
    "squares.popitem()"
   ]
  },
  {
   "cell_type": "code",
   "execution_count": null,
   "id": "5ce50e61",
   "metadata": {},
   "outputs": [],
   "source": [
    "squares"
   ]
  },
  {
   "cell_type": "code",
   "execution_count": null,
   "id": "db32fe5e",
   "metadata": {},
   "outputs": [],
   "source": [
    "del squares[1]"
   ]
  },
  {
   "cell_type": "code",
   "execution_count": null,
   "id": "7a709332",
   "metadata": {},
   "outputs": [],
   "source": [
    "type(squares)"
   ]
  },
  {
   "cell_type": "code",
   "execution_count": null,
   "id": "6dc86fa8",
   "metadata": {},
   "outputs": [],
   "source": [
    "squares.items()"
   ]
  },
  {
   "cell_type": "code",
   "execution_count": null,
   "id": "7ab760c8",
   "metadata": {},
   "outputs": [],
   "source": []
  },
  {
   "cell_type": "code",
   "execution_count": null,
   "id": "b7a30b79",
   "metadata": {},
   "outputs": [],
   "source": [
    "squares = {x: x*x for x in range(6)}"
   ]
  },
  {
   "cell_type": "code",
   "execution_count": null,
   "id": "97238c69",
   "metadata": {},
   "outputs": [],
   "source": [
    "squares"
   ]
  },
  {
   "cell_type": "code",
   "execution_count": null,
   "id": "b159095b",
   "metadata": {},
   "outputs": [],
   "source": [
    "squares[7] = 26"
   ]
  },
  {
   "cell_type": "code",
   "execution_count": null,
   "id": "f39841d9",
   "metadata": {},
   "outputs": [],
   "source": [
    "squares.items()\n",
    "squares.keys()\n",
    "squares.values()"
   ]
  },
  {
   "cell_type": "code",
   "execution_count": null,
   "id": "69c6f990",
   "metadata": {},
   "outputs": [],
   "source": [
    "l1 = \"This will split all words into a list\".split()"
   ]
  },
  {
   "cell_type": "code",
   "execution_count": null,
   "id": "ce2b2c77",
   "metadata": {},
   "outputs": [],
   "source": [
    "\"_\".join(l1)"
   ]
  },
  {
   "cell_type": "code",
   "execution_count": null,
   "id": "31e9dac2",
   "metadata": {},
   "outputs": [],
   "source": [
    "mytuple = (\"apple\", \"banana\", \"cherry\")\n",
    "myit = iter(mytuple)"
   ]
  },
  {
   "cell_type": "code",
   "execution_count": null,
   "id": "f28e3d56",
   "metadata": {},
   "outputs": [],
   "source": [
    "mylist = [\"a\", \"b\", \"a\", \"c\", \"c\"]\n",
    "mylist = list( dict.fromkeys(mylist) )\n",
    "print(mylist) "
   ]
  },
  {
   "cell_type": "code",
   "execution_count": null,
   "id": "4e020085",
   "metadata": {},
   "outputs": [],
   "source": [
    "dict.fromkeys(mylist)"
   ]
  },
  {
   "cell_type": "code",
   "execution_count": null,
   "id": "71d73519",
   "metadata": {},
   "outputs": [],
   "source": [
    "# Initialize the list\n",
    "my_list = [1, 3, 6, 10]\n",
    "\n",
    "# square each term using list comprehension\n",
    "list_ = [x**2 for x in my_list]\n",
    "\n",
    "# same thing can be done using a generator expression\n",
    "# generator expressions are surrounded by parenthesis ()\n",
    "generator = (x**2 for x in my_list)\n",
    "\n",
    "print(list_)\n",
    "print(generator)"
   ]
  },
  {
   "cell_type": "code",
   "execution_count": null,
   "id": "f934cf08",
   "metadata": {},
   "outputs": [],
   "source": [
    "plt.style.available\n",
    "plt.style.use(\"fivethirtyeight\")"
   ]
  },
  {
   "cell_type": "code",
   "execution_count": null,
   "id": "ad42e874",
   "metadata": {},
   "outputs": [],
   "source": []
  }
 ],
 "metadata": {
  "kernelspec": {
   "display_name": "Python 3 (ipykernel)",
   "language": "python",
   "name": "python3"
  },
  "language_info": {
   "codemirror_mode": {
    "name": "ipython",
    "version": 3
   },
   "file_extension": ".py",
   "mimetype": "text/x-python",
   "name": "python",
   "nbconvert_exporter": "python",
   "pygments_lexer": "ipython3",
   "version": "3.9.13"
  }
 },
 "nbformat": 4,
 "nbformat_minor": 5
}
