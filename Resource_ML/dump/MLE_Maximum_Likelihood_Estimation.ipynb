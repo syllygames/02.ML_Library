{
 "cells": [
  {
   "cell_type": "markdown",
   "metadata": {
    "id": "b_1b_mivA3or"
   },
   "source": [
    "# Maximum Likelihood Estimation"
   ]
  },
  {
   "cell_type": "code",
   "execution_count": null,
   "metadata": {
    "colab": {
     "base_uri": "https://localhost:8080/"
    },
    "id": "vn14Y8NbArtr",
    "outputId": "edfbe1f2-4361-4209-d44b-73e9a07baee9"
   },
   "outputs": [
    {
     "name": "stderr",
     "output_type": "stream",
     "text": [
      "/usr/local/lib/python3.7/dist-packages/statsmodels/tools/_testing.py:19: FutureWarning: pandas.util.testing is deprecated. Use the functions in the public API at pandas.testing instead.\n",
      "  import pandas.util.testing as tm\n"
     ]
    }
   ],
   "source": [
    "# import the necessary libraries\n",
    "import numpy as np\n",
    "import pandas as pd\n",
    "from matplotlib import pyplot as plt\n",
    "import seaborn as sns\n",
    "from statsmodels import api\n",
    "from scipy import stats\n",
    "from scipy.optimize import minimize"
   ]
  },
  {
   "cell_type": "code",
   "execution_count": null,
   "metadata": {
    "colab": {
     "base_uri": "https://localhost:8080/",
     "height": 204
    },
    "id": "Ot8tmdfnWMrE",
    "outputId": "6e4f957f-27f6-4c9c-c5d2-f8194cef3bb9"
   },
   "outputs": [
    {
     "data": {
      "text/html": [
       "<div>\n",
       "<style scoped>\n",
       "    .dataframe tbody tr th:only-of-type {\n",
       "        vertical-align: middle;\n",
       "    }\n",
       "\n",
       "    .dataframe tbody tr th {\n",
       "        vertical-align: top;\n",
       "    }\n",
       "\n",
       "    .dataframe thead th {\n",
       "        text-align: right;\n",
       "    }\n",
       "</style>\n",
       "<table border=\"1\" class=\"dataframe\">\n",
       "  <thead>\n",
       "    <tr style=\"text-align: right;\">\n",
       "      <th></th>\n",
       "      <th>x</th>\n",
       "      <th>y</th>\n",
       "    </tr>\n",
       "  </thead>\n",
       "  <tbody>\n",
       "    <tr>\n",
       "      <th>0</th>\n",
       "      <td>-10.000000</td>\n",
       "      <td>-17.220807</td>\n",
       "    </tr>\n",
       "    <tr>\n",
       "      <th>1</th>\n",
       "      <td>-9.595960</td>\n",
       "      <td>-17.773363</td>\n",
       "    </tr>\n",
       "    <tr>\n",
       "      <th>2</th>\n",
       "      <td>-9.191919</td>\n",
       "      <td>-23.880360</td>\n",
       "    </tr>\n",
       "    <tr>\n",
       "      <th>3</th>\n",
       "      <td>-8.787879</td>\n",
       "      <td>-15.207193</td>\n",
       "    </tr>\n",
       "    <tr>\n",
       "      <th>4</th>\n",
       "      <td>-8.383838</td>\n",
       "      <td>-12.147515</td>\n",
       "    </tr>\n",
       "  </tbody>\n",
       "</table>\n",
       "</div>"
      ],
      "text/plain": [
       "           x          y\n",
       "0 -10.000000 -17.220807\n",
       "1  -9.595960 -17.773363\n",
       "2  -9.191919 -23.880360\n",
       "3  -8.787879 -15.207193\n",
       "4  -8.383838 -12.147515"
      ]
     },
     "execution_count": 22,
     "metadata": {
      "tags": []
     },
     "output_type": "execute_result"
    }
   ],
   "source": [
    "# create an independent variable \n",
    "x = np.linspace(-10, 30, 100)\n",
    "\n",
    "# create a normally distributed residual\n",
    "e = np.random.normal(10, 5, 100)\n",
    "\n",
    "# generate ground truth\n",
    "y = 10 + 4*x + e\n",
    "\n",
    "df = pd.DataFrame({'x':x, 'y':y})\n",
    "df.head()"
   ]
  },
  {
   "cell_type": "code",
   "execution_count": null,
   "metadata": {
    "colab": {
     "base_uri": "https://localhost:8080/",
     "height": 283
    },
    "id": "5DIoMu9MYP0S",
    "outputId": "855145c2-aced-409f-b775-de994ceb924a"
   },
   "outputs": [
    {
     "data": {
      "image/png": "[encoded data removed]",
      "text/plain": [
       "<Figure size 432x288 with 1 Axes>"
      ]
     },
     "metadata": {
      "needs_background": "light",
      "tags": []
     },
     "output_type": "display_data"
    }
   ],
   "source": [
    "# visualize data distribution\n",
    "sns.regplot(x='x', y='y', data = df)\n",
    "plt.show()"
   ]
  },
  {
   "cell_type": "markdown",
   "metadata": {
    "id": "1ktLs6ihMO0B"
   },
   "source": [
    "## Solve by OLS approach"
   ]
  },
  {
   "cell_type": "code",
   "execution_count": null,
   "metadata": {
    "colab": {
     "base_uri": "https://localhost:8080/",
     "height": 444
    },
    "id": "h4YMSsmDYfy3",
    "outputId": "d833d74c-7f63-44fa-df5d-f02f431f7dd5"
   },
   "outputs": [
    {
     "data": {
      "text/html": [
       "<table class=\"simpletable\">\n",
       "<caption>OLS Regression Results</caption>\n",
       "<tr>\n",
       "  <th>Dep. Variable:</th>            <td>y</td>        <th>  R-squared:         </th> <td>   0.991</td> \n",
       "</tr>\n",
       "<tr>\n",
       "  <th>Model:</th>                   <td>OLS</td>       <th>  Adj. R-squared:    </th> <td>   0.991</td> \n",
       "</tr>\n",
       "<tr>\n",
       "  <th>Method:</th>             <td>Least Squares</td>  <th>  F-statistic:       </th> <td>1.118e+04</td>\n",
       "</tr>\n",
       "<tr>\n",
       "  <th>Date:</th>             <td>Fri, 16 Apr 2021</td> <th>  Prob (F-statistic):</th> <td>8.44e-103</td>\n",
       "</tr>\n",
       "<tr>\n",
       "  <th>Time:</th>                 <td>12:02:58</td>     <th>  Log-Likelihood:    </th> <td> -289.15</td> \n",
       "</tr>\n",
       "<tr>\n",
       "  <th>No. Observations:</th>      <td>   100</td>      <th>  AIC:               </th> <td>   582.3</td> \n",
       "</tr>\n",
       "<tr>\n",
       "  <th>Df Residuals:</th>          <td>    98</td>      <th>  BIC:               </th> <td>   587.5</td> \n",
       "</tr>\n",
       "<tr>\n",
       "  <th>Df Model:</th>              <td>     1</td>      <th>                     </th>     <td> </td>    \n",
       "</tr>\n",
       "<tr>\n",
       "  <th>Covariance Type:</th>      <td>nonrobust</td>    <th>                     </th>     <td> </td>    \n",
       "</tr>\n",
       "</table>\n",
       "<table class=\"simpletable\">\n",
       "<tr>\n",
       "    <td></td>       <th>coef</th>     <th>std err</th>      <th>t</th>      <th>P>|t|</th>  <th>[0.025</th>    <th>0.975]</th>  \n",
       "</tr>\n",
       "<tr>\n",
       "  <th>const</th> <td>   19.8108</td> <td>    0.580</td> <td>   34.144</td> <td> 0.000</td> <td>   18.659</td> <td>   20.962</td>\n",
       "</tr>\n",
       "<tr>\n",
       "  <th>x</th>     <td>    3.9924</td> <td>    0.038</td> <td>  105.714</td> <td> 0.000</td> <td>    3.917</td> <td>    4.067</td>\n",
       "</tr>\n",
       "</table>\n",
       "<table class=\"simpletable\">\n",
       "<tr>\n",
       "  <th>Omnibus:</th>       <td> 0.031</td> <th>  Durbin-Watson:     </th> <td>   2.045</td>\n",
       "</tr>\n",
       "<tr>\n",
       "  <th>Prob(Omnibus):</th> <td> 0.985</td> <th>  Jarque-Bera (JB):  </th> <td>   0.056</td>\n",
       "</tr>\n",
       "<tr>\n",
       "  <th>Skew:</th>          <td> 0.033</td> <th>  Prob(JB):          </th> <td>   0.972</td>\n",
       "</tr>\n",
       "<tr>\n",
       "  <th>Kurtosis:</th>      <td> 2.904</td> <th>  Cond. No.          </th> <td>    20.3</td>\n",
       "</tr>\n",
       "</table><br/><br/>Warnings:<br/>[1] Standard Errors assume that the covariance matrix of the errors is correctly specified."
      ],
      "text/plain": [
       "<class 'statsmodels.iolib.summary.Summary'>\n",
       "\"\"\"\n",
       "                            OLS Regression Results                            \n",
       "==============================================================================\n",
       "Dep. Variable:                      y   R-squared:                       0.991\n",
       "Model:                            OLS   Adj. R-squared:                  0.991\n",
       "Method:                 Least Squares   F-statistic:                 1.118e+04\n",
       "Date:                Fri, 16 Apr 2021   Prob (F-statistic):          8.44e-103\n",
       "Time:                        12:02:58   Log-Likelihood:                -289.15\n",
       "No. Observations:                 100   AIC:                             582.3\n",
       "Df Residuals:                      98   BIC:                             587.5\n",
       "Df Model:                           1                                         \n",
       "Covariance Type:            nonrobust                                         \n",
       "==============================================================================\n",
       "                 coef    std err          t      P>|t|      [0.025      0.975]\n",
       "------------------------------------------------------------------------------\n",
       "const         19.8108      0.580     34.144      0.000      18.659      20.962\n",
       "x              3.9924      0.038    105.714      0.000       3.917       4.067\n",
       "==============================================================================\n",
       "Omnibus:                        0.031   Durbin-Watson:                   2.045\n",
       "Prob(Omnibus):                  0.985   Jarque-Bera (JB):                0.056\n",
       "Skew:                           0.033   Prob(JB):                        0.972\n",
       "Kurtosis:                       2.904   Cond. No.                         20.3\n",
       "==============================================================================\n",
       "\n",
       "Warnings:\n",
       "[1] Standard Errors assume that the covariance matrix of the errors is correctly specified.\n",
       "\"\"\""
      ]
     },
     "execution_count": 24,
     "metadata": {
      "tags": []
     },
     "output_type": "execute_result"
    }
   ],
   "source": [
    "features = api.add_constant(df.x)\n",
    "model = api.OLS(y, features).fit()\n",
    "model.summary()"
   ]
  },
  {
   "cell_type": "code",
   "execution_count": null,
   "metadata": {
    "colab": {
     "base_uri": "https://localhost:8080/"
    },
    "id": "9oWdmGAOaH1c",
    "outputId": "6fd0b4a0-29cc-49de-9740-3c60e4e7b99c"
   },
   "outputs": [
    {
     "data": {
      "text/plain": [
       "4.360467019992252"
      ]
     },
     "execution_count": 29,
     "metadata": {
      "tags": []
     },
     "output_type": "execute_result"
    }
   ],
   "source": [
    "# find the std dev\n",
    "res = model.resid\n",
    "standard_dev = np.std(res)\n",
    "standard_dev"
   ]
  },
  {
   "cell_type": "markdown",
   "metadata": {
    "id": "x6KHvfhuMFDm"
   },
   "source": [
    "## Solve by MLE approach"
   ]
  },
  {
   "cell_type": "code",
   "execution_count": null,
   "metadata": {
    "id": "6OU7JErOaYCG"
   },
   "outputs": [],
   "source": [
    "# MLE\n",
    "\n",
    "def MLE_Norm(parameters):\n",
    "  const, beta, std_dev = parameters\n",
    "  pred = const + beta*x\n",
    "\n",
    "  LL = np.sum(stats.norm.logpdf(y, pred, std_dev))\n",
    "  neg_LL = -1*LL\n",
    "  return neg_LL"
   ]
  },
  {
   "cell_type": "code",
   "execution_count": null,
   "metadata": {
    "colab": {
     "base_uri": "https://localhost:8080/"
    },
    "id": "gf_EjLCSgkLI",
    "outputId": "c127acf1-5aee-45aa-ec42-17e7cd4e993a"
   },
   "outputs": [
    {
     "data": {
      "text/plain": [
       "      fun: 289.1517699511119\n",
       " hess_inv: <3x3 LbfgsInvHessProduct with dtype=float64>\n",
       "      jac: array([-5.11590770e-05, -1.06865627e-03,  1.13686838e-05])\n",
       "  message: b'CONVERGENCE: REL_REDUCTION_OF_F_<=_FACTR*EPSMCH'\n",
       "     nfev: 232\n",
       "      nit: 35\n",
       "   status: 0\n",
       "  success: True\n",
       "        x: array([19.81075117,  3.99244393,  4.36046757])"
      ]
     },
     "execution_count": 27,
     "metadata": {
      "tags": []
     },
     "output_type": "execute_result"
    }
   ],
   "source": [
    "mle_model = minimize(MLE_Norm, np.array([2,2,2]), method='L-BFGS-B')\n",
    "mle_model"
   ]
  },
  {
   "cell_type": "markdown",
   "metadata": {
    "id": "jMIkWel2L2Yf"
   },
   "source": [
    "### We can find that the parameters obtained through MLE is matching with that of the OLS approach.\n",
    "\n",
    "### Thank you for your time!"
   ]
  }
 ],
 "metadata": {
  "colab": {
   "collapsed_sections": [],
   "name": "MLE-Maximum Likelihood Estimation.ipynb",
   "provenance": []
  },
  "kernelspec": {
   "display_name": "Python 3 (ipykernel)",
   "language": "python",
   "name": "python3"
  },
  "language_info": {
   "codemirror_mode": {
    "name": "ipython",
    "version": 3
   },
   "file_extension": ".py",
   "mimetype": "text/x-python",
   "name": "python",
   "nbconvert_exporter": "python",
   "pygments_lexer": "ipython3",
   "version": "3.8.12"
  }
 },
 "nbformat": 4,
 "nbformat_minor": 1
}
