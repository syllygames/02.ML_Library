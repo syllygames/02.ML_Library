{
 "cells": [
  {
   "cell_type": "markdown",
   "metadata": {
    "id": "AgYGm7Kzboou"
   },
   "source": [
    "# Goodness-of-Fit Test\n",
    "\n",
    "\n",
    "One of the traditional statistical approaches, the Goodness-of-Fit test gives a solution to validate our theoretical assumptions about data distributions. \n",
    "This notebook discusses the Goodness-of-Fit test with some common data distributions using Python code."
   ]
  },
  {
   "cell_type": "code",
   "execution_count": null,
   "metadata": {
    "id": "wU_5hix3bLmw"
   },
   "outputs": [],
   "source": [
    "# create the environment\n",
    "\n",
    "import numpy as np\n",
    "import pandas as pd\n",
    "import matplotlib.pyplot as plt\n",
    "import seaborn as sns\n",
    "from scipy import stats "
   ]
  },
  {
   "cell_type": "markdown",
   "metadata": {
    "id": "6WIN0SrQ96LF"
   },
   "source": [
    "# Uniform Distribution"
   ]
  },
  {
   "cell_type": "code",
   "execution_count": null,
   "metadata": {
    "colab": {
     "base_uri": "https://localhost:8080/",
     "height": 235
    },
    "id": "7uQyHdYwcQn9",
    "outputId": "6722f05d-b238-4c2d-aced-a6b74f217359"
   },
   "outputs": [
    {
     "data": {
      "text/html": [
       "<div>\n",
       "<style scoped>\n",
       "    .dataframe tbody tr th:only-of-type {\n",
       "        vertical-align: middle;\n",
       "    }\n",
       "\n",
       "    .dataframe tbody tr th {\n",
       "        vertical-align: top;\n",
       "    }\n",
       "\n",
       "    .dataframe thead th {\n",
       "        text-align: right;\n",
       "    }\n",
       "</style>\n",
       "<table border=\"1\" class=\"dataframe\">\n",
       "  <thead>\n",
       "    <tr style=\"text-align: right;\">\n",
       "      <th></th>\n",
       "      <th>face</th>\n",
       "      <th>observed</th>\n",
       "    </tr>\n",
       "  </thead>\n",
       "  <tbody>\n",
       "    <tr>\n",
       "      <th>0</th>\n",
       "      <td>1</td>\n",
       "      <td>17</td>\n",
       "    </tr>\n",
       "    <tr>\n",
       "      <th>1</th>\n",
       "      <td>2</td>\n",
       "      <td>11</td>\n",
       "    </tr>\n",
       "    <tr>\n",
       "      <th>2</th>\n",
       "      <td>3</td>\n",
       "      <td>18</td>\n",
       "    </tr>\n",
       "    <tr>\n",
       "      <th>3</th>\n",
       "      <td>4</td>\n",
       "      <td>12</td>\n",
       "    </tr>\n",
       "    <tr>\n",
       "      <th>4</th>\n",
       "      <td>5</td>\n",
       "      <td>15</td>\n",
       "    </tr>\n",
       "    <tr>\n",
       "      <th>5</th>\n",
       "      <td>6</td>\n",
       "      <td>17</td>\n",
       "    </tr>\n",
       "  </tbody>\n",
       "</table>\n",
       "</div>"
      ],
      "text/plain": [
       "   face  observed\n",
       "0     1        17\n",
       "1     2        11\n",
       "2     3        18\n",
       "3     4        12\n",
       "4     5        15\n",
       "5     6        17"
      ]
     },
     "execution_count": 9,
     "metadata": {
      "tags": []
     },
     "output_type": "execute_result"
    }
   ],
   "source": [
    "path = 'https://raw.githubusercontent.com/RajkumarGalaxy/dataset/master/Tabular/uniform_dice.csv'\n",
    "dice = pd.read_csv(path)\n",
    "dice"
   ]
  },
  {
   "cell_type": "code",
   "execution_count": null,
   "metadata": {
    "colab": {
     "base_uri": "https://localhost:8080/"
    },
    "id": "zg-8M86u99vf",
    "outputId": "23027d09-d34f-423e-e93d-98490edde477"
   },
   "outputs": [
    {
     "name": "stdout",
     "output_type": "stream",
     "text": [
      "Total Frequency :  90\n",
      "Expected Frequency :  15.0\n"
     ]
    }
   ],
   "source": [
    "# Total frequency\n",
    "total_freq = dice['observed'].sum()\n",
    "print('Total Frequency : ', total_freq)\n",
    "\n",
    "# Expected frequency\n",
    "expected_freq = total_freq / 6\n",
    "print('Expected Frequency : ', expected_freq)"
   ]
  },
  {
   "cell_type": "code",
   "execution_count": null,
   "metadata": {
    "colab": {
     "base_uri": "https://localhost:8080/",
     "height": 235
    },
    "id": "-5m0Bit-_otG",
    "outputId": "32a2ac7e-6f1d-4d53-ea62-1e610d85d43c"
   },
   "outputs": [
    {
     "data": {
      "text/html": [
       "<div>\n",
       "<style scoped>\n",
       "    .dataframe tbody tr th:only-of-type {\n",
       "        vertical-align: middle;\n",
       "    }\n",
       "\n",
       "    .dataframe tbody tr th {\n",
       "        vertical-align: top;\n",
       "    }\n",
       "\n",
       "    .dataframe thead th {\n",
       "        text-align: right;\n",
       "    }\n",
       "</style>\n",
       "<table border=\"1\" class=\"dataframe\">\n",
       "  <thead>\n",
       "    <tr style=\"text-align: right;\">\n",
       "      <th></th>\n",
       "      <th>face</th>\n",
       "      <th>observed</th>\n",
       "      <th>expected</th>\n",
       "    </tr>\n",
       "  </thead>\n",
       "  <tbody>\n",
       "    <tr>\n",
       "      <th>0</th>\n",
       "      <td>1</td>\n",
       "      <td>17</td>\n",
       "      <td>15.0</td>\n",
       "    </tr>\n",
       "    <tr>\n",
       "      <th>1</th>\n",
       "      <td>2</td>\n",
       "      <td>11</td>\n",
       "      <td>15.0</td>\n",
       "    </tr>\n",
       "    <tr>\n",
       "      <th>2</th>\n",
       "      <td>3</td>\n",
       "      <td>18</td>\n",
       "      <td>15.0</td>\n",
       "    </tr>\n",
       "    <tr>\n",
       "      <th>3</th>\n",
       "      <td>4</td>\n",
       "      <td>12</td>\n",
       "      <td>15.0</td>\n",
       "    </tr>\n",
       "    <tr>\n",
       "      <th>4</th>\n",
       "      <td>5</td>\n",
       "      <td>15</td>\n",
       "      <td>15.0</td>\n",
       "    </tr>\n",
       "    <tr>\n",
       "      <th>5</th>\n",
       "      <td>6</td>\n",
       "      <td>17</td>\n",
       "      <td>15.0</td>\n",
       "    </tr>\n",
       "  </tbody>\n",
       "</table>\n",
       "</div>"
      ],
      "text/plain": [
       "   face  observed  expected\n",
       "0     1        17      15.0\n",
       "1     2        11      15.0\n",
       "2     3        18      15.0\n",
       "3     4        12      15.0\n",
       "4     5        15      15.0\n",
       "5     6        17      15.0"
      ]
     },
     "execution_count": 16,
     "metadata": {
      "tags": []
     },
     "output_type": "execute_result"
    }
   ],
   "source": [
    "dice['expected'] = expected_freq\n",
    "dice"
   ]
  },
  {
   "cell_type": "code",
   "execution_count": null,
   "metadata": {
    "colab": {
     "base_uri": "https://localhost:8080/",
     "height": 392
    },
    "id": "H1MsIAR1ECSE",
    "outputId": "3b1f2ecc-3ba0-4843-e65e-0a00f140d4d6"
   },
   "outputs": [
    {
     "data": {
      "image/png": "[encoded data removed]",
      "text/plain": [
       "<Figure size 432x432 with 2 Axes>"
      ]
     },
     "metadata": {
      "tags": []
     },
     "output_type": "display_data"
    }
   ],
   "source": [
    "sns.set_style('darkgrid')\n",
    "plt.figure(figsize = (6,6))\n",
    "\n",
    "# plot observed frequency\n",
    "plt.subplot(211)\n",
    "plt.bar(dice['face'], dice['observed'])\n",
    "plt.ylabel('Observed Frequency')\n",
    "plt.ylim([0,20])\n",
    "\n",
    "# plot expected frequency\n",
    "plt.subplot(212)\n",
    "plt.bar(dice['face'], dice['expected'])\n",
    "plt.ylabel('Expected Frequency')\n",
    "plt.xlabel('Face of dice')\n",
    "plt.ylim([0,20])\n",
    "plt.show()"
   ]
  },
  {
   "cell_type": "markdown",
   "metadata": {
    "id": "owvNL2qqO5Me"
   },
   "source": [
    "![image.png](data:image/png;base64,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)"
   ]
  },
  {
   "cell_type": "code",
   "execution_count": null,
   "metadata": {
    "id": "JvcyBjo_O34R"
   },
   "outputs": [],
   "source": [
    "# a helper function to calculate the Chi-Square value\n",
    "\n",
    "def Chi_Square(obs_freq, exp_freq):\n",
    "  count = len(obs_freq)\n",
    "  chi_sq = 0\n",
    "\n",
    "  for i in range(count):\n",
    "    x = (obs_freq[i] - exp_freq[i]) ** 2\n",
    "    x = x / exp_freq[i]\n",
    "    chi_sq += x\n",
    "\n",
    "  return chi_sq\n"
   ]
  },
  {
   "cell_type": "code",
   "execution_count": null,
   "metadata": {
    "colab": {
     "base_uri": "https://localhost:8080/"
    },
    "id": "wW1IW7TfQyWY",
    "outputId": "9a37387e-df0f-49ee-a24d-2006a4dc43cc"
   },
   "outputs": [
    {
     "data": {
      "text/plain": [
       "2.8"
      ]
     },
     "execution_count": 43,
     "metadata": {
      "tags": []
     },
     "output_type": "execute_result"
    }
   ],
   "source": [
    "# calculate using the helper function\n",
    "Chi_Square(dice['observed'], dice['expected'])"
   ]
  },
  {
   "cell_type": "code",
   "execution_count": null,
   "metadata": {
    "colab": {
     "base_uri": "https://localhost:8080/"
    },
    "id": "eAYtIP6gRNaC",
    "outputId": "3fb079d5-f4d4-41be-cc5f-e2ad723d8bad"
   },
   "outputs": [
    {
     "data": {
      "text/plain": [
       "Power_divergenceResult(statistic=2.8, pvalue=0.7307864865887586)"
      ]
     },
     "execution_count": 45,
     "metadata": {
      "tags": []
     },
     "output_type": "execute_result"
    }
   ],
   "source": [
    "# calculate using the stats module of SciPy library\n",
    "stats.chisquare(dice['observed'], dice['expected'])"
   ]
  },
  {
   "cell_type": "code",
   "execution_count": null,
   "metadata": {
    "colab": {
     "base_uri": "https://localhost:8080/"
    },
    "id": "W-nF-OAeULAE",
    "outputId": "596d00c9-f194-41d8-ebda-2a2ccd0f314d"
   },
   "outputs": [
    {
     "data": {
      "text/plain": [
       "11.070497693516351"
      ]
     },
     "execution_count": 48,
     "metadata": {
      "tags": []
     },
     "output_type": "execute_result"
    }
   ],
   "source": [
    "# critical Chi-Square - percent point function\n",
    "DOF = len(dice['observed']) - 0 - 1\n",
    "stats.chi2.ppf(0.95, DOF)"
   ]
  },
  {
   "cell_type": "markdown",
   "metadata": {
    "id": "3vI_U0J5cffQ"
   },
   "source": [
    "We can say that the data follows uniform distribution."
   ]
  },
  {
   "cell_type": "markdown",
   "metadata": {
    "id": "y5KL45UIcoc1"
   },
   "source": [
    "# Normal Distribution"
   ]
  },
  {
   "cell_type": "code",
   "execution_count": null,
   "metadata": {
    "colab": {
     "base_uri": "https://localhost:8080/",
     "height": 359
    },
    "id": "pOOeDSAcjbJo",
    "outputId": "9d12ed75-6d6b-4179-c175-ff31b9996eb4"
   },
   "outputs": [
    {
     "data": {
      "text/html": [
       "<div>\n",
       "<style scoped>\n",
       "    .dataframe tbody tr th:only-of-type {\n",
       "        vertical-align: middle;\n",
       "    }\n",
       "\n",
       "    .dataframe tbody tr th {\n",
       "        vertical-align: top;\n",
       "    }\n",
       "\n",
       "    .dataframe thead th {\n",
       "        text-align: right;\n",
       "    }\n",
       "</style>\n",
       "<table border=\"1\" class=\"dataframe\">\n",
       "  <thead>\n",
       "    <tr style=\"text-align: right;\">\n",
       "      <th></th>\n",
       "      <th>bulb</th>\n",
       "      <th>life</th>\n",
       "    </tr>\n",
       "  </thead>\n",
       "  <tbody>\n",
       "    <tr>\n",
       "      <th>0</th>\n",
       "      <td>1</td>\n",
       "      <td>31</td>\n",
       "    </tr>\n",
       "    <tr>\n",
       "      <th>1</th>\n",
       "      <td>2</td>\n",
       "      <td>33</td>\n",
       "    </tr>\n",
       "    <tr>\n",
       "      <th>2</th>\n",
       "      <td>3</td>\n",
       "      <td>34</td>\n",
       "    </tr>\n",
       "    <tr>\n",
       "      <th>3</th>\n",
       "      <td>4</td>\n",
       "      <td>51</td>\n",
       "    </tr>\n",
       "    <tr>\n",
       "      <th>4</th>\n",
       "      <td>5</td>\n",
       "      <td>24</td>\n",
       "    </tr>\n",
       "    <tr>\n",
       "      <th>5</th>\n",
       "      <td>6</td>\n",
       "      <td>41</td>\n",
       "    </tr>\n",
       "    <tr>\n",
       "      <th>6</th>\n",
       "      <td>7</td>\n",
       "      <td>58</td>\n",
       "    </tr>\n",
       "    <tr>\n",
       "      <th>7</th>\n",
       "      <td>8</td>\n",
       "      <td>53</td>\n",
       "    </tr>\n",
       "    <tr>\n",
       "      <th>8</th>\n",
       "      <td>9</td>\n",
       "      <td>27</td>\n",
       "    </tr>\n",
       "    <tr>\n",
       "      <th>9</th>\n",
       "      <td>10</td>\n",
       "      <td>52</td>\n",
       "    </tr>\n",
       "  </tbody>\n",
       "</table>\n",
       "</div>"
      ],
      "text/plain": [
       "   bulb  life\n",
       "0     1    31\n",
       "1     2    33\n",
       "2     3    34\n",
       "3     4    51\n",
       "4     5    24\n",
       "5     6    41\n",
       "6     7    58\n",
       "7     8    53\n",
       "8     9    27\n",
       "9    10    52"
      ]
     },
     "execution_count": 99,
     "metadata": {
      "tags": []
     },
     "output_type": "execute_result"
    }
   ],
   "source": [
    "path = 'https://raw.githubusercontent.com/RajkumarGalaxy/dataset/master/Tabular/bulb_life.csv'\n",
    "data = pd.read_csv(path)\n",
    "data.head(10)"
   ]
  },
  {
   "cell_type": "code",
   "execution_count": null,
   "metadata": {
    "colab": {
     "base_uri": "https://localhost:8080/",
     "height": 279
    },
    "id": "RQV9d0pAxFMh",
    "outputId": "7f21ac73-2b43-4619-f134-b8d7c9ca29f7"
   },
   "outputs": [
    {
     "data": {
      "image/png": "[encoded data removed]",
      "text/plain": [
       "<Figure size 432x288 with 1 Axes>"
      ]
     },
     "metadata": {
      "tags": []
     },
     "output_type": "display_data"
    }
   ],
   "source": [
    "sns.histplot(data=data, x='life', bins=8)\n",
    "plt.show()"
   ]
  },
  {
   "cell_type": "code",
   "execution_count": null,
   "metadata": {
    "colab": {
     "base_uri": "https://localhost:8080/"
    },
    "id": "NogQs3ARyXtA",
    "outputId": "3274fc19-7a3d-461e-b9a5-5e26fc039516"
   },
   "outputs": [
    {
     "data": {
      "text/plain": [
       "[26.056476255663902,\n",
       " 31.762378497044118,\n",
       " 36.02928282685201,\n",
       " 39.85,\n",
       " 43.67071717314799,\n",
       " 47.937621502955885,\n",
       " 53.6435237443361,\n",
       " inf]"
      ]
     },
     "execution_count": 104,
     "metadata": {
      "tags": []
     },
     "output_type": "execute_result"
    }
   ],
   "source": [
    "# mean and standard deviation of given data\n",
    "mean = np.mean(data['life'])\n",
    "std = np.std(data['life'])\n",
    "\n",
    "bins = 8\n",
    "interval = []\n",
    "for i in range(1,9):\n",
    "  val = stats.norm.ppf(i/bins, mean, std)\n",
    "  interval.append(val)\n",
    "interval"
   ]
  },
  {
   "cell_type": "code",
   "execution_count": null,
   "metadata": {
    "colab": {
     "base_uri": "https://localhost:8080/"
    },
    "id": "oko04QRj-F_q",
    "outputId": "41219567-5ddd-4227-96f2-bcf9649281fb"
   },
   "outputs": [
    {
     "data": {
      "text/plain": [
       "[-inf,\n",
       " 26.056476255663902,\n",
       " 31.762378497044118,\n",
       " 36.02928282685201,\n",
       " 39.85,\n",
       " 43.67071717314799,\n",
       " 47.937621502955885,\n",
       " 53.6435237443361,\n",
       " inf]"
      ]
     },
     "execution_count": 106,
     "metadata": {
      "tags": []
     },
     "output_type": "execute_result"
    }
   ],
   "source": [
    "interval.insert(0, -np.inf)\n",
    "interval"
   ]
  },
  {
   "cell_type": "code",
   "execution_count": null,
   "metadata": {
    "colab": {
     "base_uri": "https://localhost:8080/",
     "height": 297
    },
    "id": "KHoctZvz8PID",
    "outputId": "29638089-36c9-41e4-9093-573338d4192f"
   },
   "outputs": [
    {
     "data": {
      "text/html": [
       "<div>\n",
       "<style scoped>\n",
       "    .dataframe tbody tr th:only-of-type {\n",
       "        vertical-align: middle;\n",
       "    }\n",
       "\n",
       "    .dataframe tbody tr th {\n",
       "        vertical-align: top;\n",
       "    }\n",
       "\n",
       "    .dataframe thead th {\n",
       "        text-align: right;\n",
       "    }\n",
       "</style>\n",
       "<table border=\"1\" class=\"dataframe\">\n",
       "  <thead>\n",
       "    <tr style=\"text-align: right;\">\n",
       "      <th></th>\n",
       "      <th>lower_limit</th>\n",
       "      <th>upper_limit</th>\n",
       "    </tr>\n",
       "  </thead>\n",
       "  <tbody>\n",
       "    <tr>\n",
       "      <th>0</th>\n",
       "      <td>-inf</td>\n",
       "      <td>26.056476</td>\n",
       "    </tr>\n",
       "    <tr>\n",
       "      <th>1</th>\n",
       "      <td>26.056476</td>\n",
       "      <td>31.762378</td>\n",
       "    </tr>\n",
       "    <tr>\n",
       "      <th>2</th>\n",
       "      <td>31.762378</td>\n",
       "      <td>36.029283</td>\n",
       "    </tr>\n",
       "    <tr>\n",
       "      <th>3</th>\n",
       "      <td>36.029283</td>\n",
       "      <td>39.850000</td>\n",
       "    </tr>\n",
       "    <tr>\n",
       "      <th>4</th>\n",
       "      <td>39.850000</td>\n",
       "      <td>43.670717</td>\n",
       "    </tr>\n",
       "    <tr>\n",
       "      <th>5</th>\n",
       "      <td>43.670717</td>\n",
       "      <td>47.937622</td>\n",
       "    </tr>\n",
       "    <tr>\n",
       "      <th>6</th>\n",
       "      <td>47.937622</td>\n",
       "      <td>53.643524</td>\n",
       "    </tr>\n",
       "    <tr>\n",
       "      <th>7</th>\n",
       "      <td>53.643524</td>\n",
       "      <td>inf</td>\n",
       "    </tr>\n",
       "  </tbody>\n",
       "</table>\n",
       "</div>"
      ],
      "text/plain": [
       "   lower_limit  upper_limit\n",
       "0         -inf    26.056476\n",
       "1    26.056476    31.762378\n",
       "2    31.762378    36.029283\n",
       "3    36.029283    39.850000\n",
       "4    39.850000    43.670717\n",
       "5    43.670717    47.937622\n",
       "6    47.937622    53.643524\n",
       "7    53.643524          inf"
      ]
     },
     "execution_count": 107,
     "metadata": {
      "tags": []
     },
     "output_type": "execute_result"
    }
   ],
   "source": [
    "df = pd.DataFrame({'lower_limit':interval[:-1], 'upper_limit':interval[1:]})\n",
    "df"
   ]
  },
  {
   "cell_type": "code",
   "execution_count": null,
   "metadata": {
    "colab": {
     "base_uri": "https://localhost:8080/",
     "height": 297
    },
    "id": "xB2y7mL1AGMF",
    "outputId": "65624d8b-9510-4243-d2b4-0be450209066"
   },
   "outputs": [
    {
     "data": {
      "text/html": [
       "<div>\n",
       "<style scoped>\n",
       "    .dataframe tbody tr th:only-of-type {\n",
       "        vertical-align: middle;\n",
       "    }\n",
       "\n",
       "    .dataframe tbody tr th {\n",
       "        vertical-align: top;\n",
       "    }\n",
       "\n",
       "    .dataframe thead th {\n",
       "        text-align: right;\n",
       "    }\n",
       "</style>\n",
       "<table border=\"1\" class=\"dataframe\">\n",
       "  <thead>\n",
       "    <tr style=\"text-align: right;\">\n",
       "      <th></th>\n",
       "      <th>lower_limit</th>\n",
       "      <th>upper_limit</th>\n",
       "      <th>obs_freq</th>\n",
       "      <th>exp_freq</th>\n",
       "    </tr>\n",
       "  </thead>\n",
       "  <tbody>\n",
       "    <tr>\n",
       "      <th>0</th>\n",
       "      <td>-inf</td>\n",
       "      <td>26.056476</td>\n",
       "      <td>4</td>\n",
       "      <td>5</td>\n",
       "    </tr>\n",
       "    <tr>\n",
       "      <th>1</th>\n",
       "      <td>26.056476</td>\n",
       "      <td>31.762378</td>\n",
       "      <td>8</td>\n",
       "      <td>5</td>\n",
       "    </tr>\n",
       "    <tr>\n",
       "      <th>2</th>\n",
       "      <td>31.762378</td>\n",
       "      <td>36.029283</td>\n",
       "      <td>6</td>\n",
       "      <td>5</td>\n",
       "    </tr>\n",
       "    <tr>\n",
       "      <th>3</th>\n",
       "      <td>36.029283</td>\n",
       "      <td>39.850000</td>\n",
       "      <td>2</td>\n",
       "      <td>5</td>\n",
       "    </tr>\n",
       "    <tr>\n",
       "      <th>4</th>\n",
       "      <td>39.850000</td>\n",
       "      <td>43.670717</td>\n",
       "      <td>6</td>\n",
       "      <td>5</td>\n",
       "    </tr>\n",
       "    <tr>\n",
       "      <th>5</th>\n",
       "      <td>43.670717</td>\n",
       "      <td>47.937622</td>\n",
       "      <td>2</td>\n",
       "      <td>5</td>\n",
       "    </tr>\n",
       "    <tr>\n",
       "      <th>6</th>\n",
       "      <td>47.937622</td>\n",
       "      <td>53.643524</td>\n",
       "      <td>6</td>\n",
       "      <td>5</td>\n",
       "    </tr>\n",
       "    <tr>\n",
       "      <th>7</th>\n",
       "      <td>53.643524</td>\n",
       "      <td>inf</td>\n",
       "      <td>6</td>\n",
       "      <td>5</td>\n",
       "    </tr>\n",
       "  </tbody>\n",
       "</table>\n",
       "</div>"
      ],
      "text/plain": [
       "   lower_limit  upper_limit  obs_freq  exp_freq\n",
       "0         -inf    26.056476         4         5\n",
       "1    26.056476    31.762378         8         5\n",
       "2    31.762378    36.029283         6         5\n",
       "3    36.029283    39.850000         2         5\n",
       "4    39.850000    43.670717         6         5\n",
       "5    43.670717    47.937622         2         5\n",
       "6    47.937622    53.643524         6         5\n",
       "7    53.643524          inf         6         5"
      ]
     },
     "execution_count": 113,
     "metadata": {
      "tags": []
     },
     "output_type": "execute_result"
    }
   ],
   "source": [
    "life_values = list(sorted(data['life']))\n",
    "df['obs_freq'] = df.apply(lambda x:sum([i>x['lower_limit'] and i<=x['upper_limit'] for i in life_values]), axis=1)\n",
    "df['exp_freq'] = 5\n",
    "df"
   ]
  },
  {
   "cell_type": "code",
   "execution_count": null,
   "metadata": {
    "colab": {
     "base_uri": "https://localhost:8080/"
    },
    "id": "qvf7W1QrEAu2",
    "outputId": "d487b836-2aa4-4827-c705-e26318c43365"
   },
   "outputs": [
    {
     "data": {
      "text/plain": [
       "Power_divergenceResult(statistic=6.4, pvalue=0.4938946499688296)"
      ]
     },
     "execution_count": 114,
     "metadata": {
      "tags": []
     },
     "output_type": "execute_result"
    }
   ],
   "source": [
    "stats.chisquare(df['obs_freq'], df['exp_freq'])"
   ]
  },
  {
   "cell_type": "code",
   "execution_count": null,
   "metadata": {
    "colab": {
     "base_uri": "https://localhost:8080/"
    },
    "id": "HnHQkh0BEjXq",
    "outputId": "0fefaf8b-6890-4def-f8ad-e41618d6877d"
   },
   "outputs": [
    {
     "data": {
      "text/plain": [
       "11.070497693516351"
      ]
     },
     "execution_count": 115,
     "metadata": {
      "tags": []
     },
     "output_type": "execute_result"
    }
   ],
   "source": [
    "p = 2    # number of parameters\n",
    "DOF = len(df['obs_freq']) - p -1\n",
    "stats.chi2.ppf(0.95, DOF)\n"
   ]
  },
  {
   "cell_type": "markdown",
   "metadata": {
    "id": "fCsFdBVrHUke"
   },
   "source": [
    "It is observed that the calculated Chi-Square value is less than the critical value. Hence, the null hypothesis can not be rejected. In other words, the life of bulbs are normally distributed.\n"
   ]
  },
  {
   "cell_type": "markdown",
   "metadata": {
    "id": "0aA-BD_qHZFf"
   },
   "source": [
    "## Thank you for your time!"
   ]
  }
 ],
 "metadata": {
  "colab": {
   "collapsed_sections": [],
   "name": "Goodness-of-Fit Test.ipynb",
   "provenance": []
  },
  "kernelspec": {
   "display_name": "Python 3 (ipykernel)",
   "language": "python",
   "name": "python3"
  },
  "language_info": {
   "codemirror_mode": {
    "name": "ipython",
    "version": 3
   },
   "file_extension": ".py",
   "mimetype": "text/x-python",
   "name": "python",
   "nbconvert_exporter": "python",
   "pygments_lexer": "ipython3",
   "version": "3.8.12"
  }
 },
 "nbformat": 4,
 "nbformat_minor": 1
}
