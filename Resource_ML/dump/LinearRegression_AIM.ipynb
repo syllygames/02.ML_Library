{
 "cells": [
  {
   "cell_type": "markdown",
   "metadata": {
    "id": "ycFufNkFvOtn"
   },
   "source": [
    "# Beginners Guide to Linear Regression  "
   ]
  },
  {
   "cell_type": "markdown",
   "metadata": {},
   "source": [
    "https://analyticsindiamag.com/beginners-guide-to-linear-regression-in-python/"
   ]
  },
  {
   "cell_type": "code",
   "execution_count": null,
   "metadata": {
    "id": "mcUDwYT0xLah"
   },
   "outputs": [],
   "source": [
    "import pandas as pd\n",
    "import matplotlib.pyplot as plt\n",
    "from sklearn.linear_model import LinearRegression\n",
    "from sklearn.metrics import mean_squared_error\n",
    "from sklearn.datasets import load_diabetes"
   ]
  },
  {
   "cell_type": "markdown",
   "metadata": {
    "id": "UiMjce7txqbM"
   },
   "source": [
    "Load data"
   ]
  },
  {
   "cell_type": "code",
   "execution_count": null,
   "metadata": {
    "colab": {
     "base_uri": "https://localhost:8080/"
    },
    "id": "mv1ZT8z30Kj4",
    "outputId": "7c65cc18-8de0-4d2b-c62e-2caf60092ee0"
   },
   "outputs": [
    {
     "data": {
      "text/plain": [
       "dict_keys(['data', 'target', 'DESCR', 'feature_names', 'data_filename', 'target_filename'])"
      ]
     },
     "execution_count": 48,
     "metadata": {
      "tags": []
     },
     "output_type": "execute_result"
    }
   ],
   "source": [
    "data = load_diabetes()\n",
    "data.keys()"
   ]
  },
  {
   "cell_type": "code",
   "execution_count": null,
   "metadata": {
    "colab": {
     "base_uri": "https://localhost:8080/",
     "height": 204
    },
    "id": "LafBsECB0sim",
    "outputId": "233d97f2-d152-4cc2-971d-cf40a73820de"
   },
   "outputs": [
    {
     "data": {
      "text/html": [
       "<div>\n",
       "<style scoped>\n",
       "    .dataframe tbody tr th:only-of-type {\n",
       "        vertical-align: middle;\n",
       "    }\n",
       "\n",
       "    .dataframe tbody tr th {\n",
       "        vertical-align: top;\n",
       "    }\n",
       "\n",
       "    .dataframe thead th {\n",
       "        text-align: right;\n",
       "    }\n",
       "</style>\n",
       "<table border=\"1\" class=\"dataframe\">\n",
       "  <thead>\n",
       "    <tr style=\"text-align: right;\">\n",
       "      <th></th>\n",
       "      <th>age</th>\n",
       "      <th>sex</th>\n",
       "      <th>bmi</th>\n",
       "      <th>bp</th>\n",
       "      <th>s1</th>\n",
       "      <th>s2</th>\n",
       "      <th>s3</th>\n",
       "      <th>s4</th>\n",
       "      <th>s5</th>\n",
       "      <th>s6</th>\n",
       "    </tr>\n",
       "  </thead>\n",
       "  <tbody>\n",
       "    <tr>\n",
       "      <th>0</th>\n",
       "      <td>0.038076</td>\n",
       "      <td>0.050680</td>\n",
       "      <td>0.061696</td>\n",
       "      <td>0.021872</td>\n",
       "      <td>-0.044223</td>\n",
       "      <td>-0.034821</td>\n",
       "      <td>-0.043401</td>\n",
       "      <td>-0.002592</td>\n",
       "      <td>0.019908</td>\n",
       "      <td>-0.017646</td>\n",
       "    </tr>\n",
       "    <tr>\n",
       "      <th>1</th>\n",
       "      <td>-0.001882</td>\n",
       "      <td>-0.044642</td>\n",
       "      <td>-0.051474</td>\n",
       "      <td>-0.026328</td>\n",
       "      <td>-0.008449</td>\n",
       "      <td>-0.019163</td>\n",
       "      <td>0.074412</td>\n",
       "      <td>-0.039493</td>\n",
       "      <td>-0.068330</td>\n",
       "      <td>-0.092204</td>\n",
       "    </tr>\n",
       "    <tr>\n",
       "      <th>2</th>\n",
       "      <td>0.085299</td>\n",
       "      <td>0.050680</td>\n",
       "      <td>0.044451</td>\n",
       "      <td>-0.005671</td>\n",
       "      <td>-0.045599</td>\n",
       "      <td>-0.034194</td>\n",
       "      <td>-0.032356</td>\n",
       "      <td>-0.002592</td>\n",
       "      <td>0.002864</td>\n",
       "      <td>-0.025930</td>\n",
       "    </tr>\n",
       "    <tr>\n",
       "      <th>3</th>\n",
       "      <td>-0.089063</td>\n",
       "      <td>-0.044642</td>\n",
       "      <td>-0.011595</td>\n",
       "      <td>-0.036656</td>\n",
       "      <td>0.012191</td>\n",
       "      <td>0.024991</td>\n",
       "      <td>-0.036038</td>\n",
       "      <td>0.034309</td>\n",
       "      <td>0.022692</td>\n",
       "      <td>-0.009362</td>\n",
       "    </tr>\n",
       "    <tr>\n",
       "      <th>4</th>\n",
       "      <td>0.005383</td>\n",
       "      <td>-0.044642</td>\n",
       "      <td>-0.036385</td>\n",
       "      <td>0.021872</td>\n",
       "      <td>0.003935</td>\n",
       "      <td>0.015596</td>\n",
       "      <td>0.008142</td>\n",
       "      <td>-0.002592</td>\n",
       "      <td>-0.031991</td>\n",
       "      <td>-0.046641</td>\n",
       "    </tr>\n",
       "  </tbody>\n",
       "</table>\n",
       "</div>"
      ],
      "text/plain": [
       "        age       sex       bmi  ...        s4        s5        s6\n",
       "0  0.038076  0.050680  0.061696  ... -0.002592  0.019908 -0.017646\n",
       "1 -0.001882 -0.044642 -0.051474  ... -0.039493 -0.068330 -0.092204\n",
       "2  0.085299  0.050680  0.044451  ... -0.002592  0.002864 -0.025930\n",
       "3 -0.089063 -0.044642 -0.011595  ...  0.034309  0.022692 -0.009362\n",
       "4  0.005383 -0.044642 -0.036385  ... -0.002592 -0.031991 -0.046641\n",
       "\n",
       "[5 rows x 10 columns]"
      ]
     },
     "execution_count": 49,
     "metadata": {
      "tags": []
     },
     "output_type": "execute_result"
    }
   ],
   "source": [
    "features = pd.DataFrame(data['data'], columns=data['feature_names'])\n",
    "target = pd.Series(data['target'], name='target')\n",
    "feat.head()"
   ]
  },
  {
   "cell_type": "markdown",
   "metadata": {
    "id": "gta6AjeJ8lMw"
   },
   "source": [
    "# Simple Linear Regression"
   ]
  },
  {
   "cell_type": "code",
   "execution_count": null,
   "metadata": {
    "id": "LZ9LUUk28kqI"
   },
   "outputs": [],
   "source": [
    "X = features['bmi'].values.reshape(-1,1)\n",
    "y = target.values.reshape(-1,1)"
   ]
  },
  {
   "cell_type": "markdown",
   "metadata": {
    "id": "YB2vq7OQxt6f"
   },
   "source": [
    "Fit the data to the model"
   ]
  },
  {
   "cell_type": "code",
   "execution_count": null,
   "metadata": {
    "colab": {
     "base_uri": "https://localhost:8080/"
    },
    "id": "RE_ZB-iu9Skp",
    "outputId": "7e57073b-182f-45f4-8c7a-4ebb1fd1d8ca"
   },
   "outputs": [
    {
     "data": {
      "text/plain": [
       "LinearRegression(copy_X=True, fit_intercept=True, n_jobs=None, normalize=False)"
      ]
     },
     "execution_count": 35,
     "metadata": {
      "tags": []
     },
     "output_type": "execute_result"
    }
   ],
   "source": [
    "simple = LinearRegression()\n",
    "simple.fit(X,y)"
   ]
  },
  {
   "cell_type": "markdown",
   "metadata": {
    "id": "GUAtb9NRxypA"
   },
   "source": [
    "What are the weights and intercept?"
   ]
  },
  {
   "cell_type": "code",
   "execution_count": null,
   "metadata": {
    "colab": {
     "base_uri": "https://localhost:8080/"
    },
    "id": "RfFW_nMq-ZCS",
    "outputId": "3961db3b-cfd1-4ab3-a9bf-54dfd877c6b1"
   },
   "outputs": [
    {
     "data": {
      "text/plain": [
       "array([152.13348416])"
      ]
     },
     "execution_count": 36,
     "metadata": {
      "tags": []
     },
     "output_type": "execute_result"
    }
   ],
   "source": [
    "simple.intercept_"
   ]
  },
  {
   "cell_type": "code",
   "execution_count": null,
   "metadata": {
    "colab": {
     "base_uri": "https://localhost:8080/"
    },
    "id": "eCMtWcLP-fDc",
    "outputId": "9d866ce0-9680-4852-d0a3-fb00f43ab6c6"
   },
   "outputs": [
    {
     "data": {
      "text/plain": [
       "array([[949.43526038]])"
      ]
     },
     "execution_count": 37,
     "metadata": {
      "tags": []
     },
     "output_type": "execute_result"
    }
   ],
   "source": [
    "simple.coef_"
   ]
  },
  {
   "cell_type": "markdown",
   "metadata": {
    "id": "q1uvnyfLx4TY"
   },
   "source": [
    "Predictions"
   ]
  },
  {
   "cell_type": "code",
   "execution_count": null,
   "metadata": {
    "id": "7-L05bJlTQkR"
   },
   "outputs": [],
   "source": [
    "calc_pred = simple.intercept_ + (X*simple.coef_)\n",
    "\n",
    "pred = simple.predict(X)"
   ]
  },
  {
   "cell_type": "code",
   "execution_count": null,
   "metadata": {
    "colab": {
     "base_uri": "https://localhost:8080/"
    },
    "id": "KpSLFR88Tdnw",
    "outputId": "1734bd7c-cac6-4c63-a98a-f837673f3dc8"
   },
   "outputs": [
    {
     "data": {
      "text/plain": [
       "True"
      ]
     },
     "execution_count": 55,
     "metadata": {
      "tags": []
     },
     "output_type": "execute_result"
    }
   ],
   "source": [
    "(calc_pred == pred).all()"
   ]
  },
  {
   "cell_type": "code",
   "execution_count": null,
   "metadata": {
    "colab": {
     "base_uri": "https://localhost:8080/",
     "height": 296
    },
    "id": "4GA3_8DB_RDv",
    "outputId": "00838d76-8a26-4623-fe68-cec39bab2394"
   },
   "outputs": [
    {
     "data": {
      "image/png": "[encoded data removed]",
      "text/plain": [
       "<Figure size 432x288 with 1 Axes>"
      ]
     },
     "metadata": {
      "needs_background": "light",
      "tags": []
     },
     "output_type": "display_data"
    }
   ],
   "source": [
    "plt.scatter(X,y, label='Actual')\n",
    "plt.plot(X,pred, '-r', label='Prediction')\n",
    "plt.xlabel('Feature X')\n",
    "plt.ylabel('Target y')\n",
    "plt.title('Simple Linear Regression', color='orange', size=14)\n",
    "plt.legend()\n",
    "plt.show()"
   ]
  },
  {
   "cell_type": "markdown",
   "metadata": {
    "id": "GvXeROQqx6v7"
   },
   "source": [
    "Mean Squared Error"
   ]
  },
  {
   "cell_type": "code",
   "execution_count": null,
   "metadata": {
    "colab": {
     "base_uri": "https://localhost:8080/"
    },
    "id": "AGBsINqETKnr",
    "outputId": "fbd67770-e20e-4ba7-cb86-16bd7706ea45"
   },
   "outputs": [
    {
     "data": {
      "text/plain": [
       "3890.4565854612724"
      ]
     },
     "execution_count": 56,
     "metadata": {
      "tags": []
     },
     "output_type": "execute_result"
    }
   ],
   "source": [
    "mean_squared_error(y, pred)"
   ]
  },
  {
   "cell_type": "markdown",
   "metadata": {
    "id": "WG-tjOpLx9P4"
   },
   "source": [
    "R-Squared value"
   ]
  },
  {
   "cell_type": "code",
   "execution_count": null,
   "metadata": {
    "colab": {
     "base_uri": "https://localhost:8080/"
    },
    "id": "tjhzMn_bRs-F",
    "outputId": "86e74919-b66c-4035-8133-10751a1ee424"
   },
   "outputs": [
    {
     "data": {
      "text/plain": [
       "0.3439237602253803"
      ]
     },
     "execution_count": 51,
     "metadata": {
      "tags": []
     },
     "output_type": "execute_result"
    }
   ],
   "source": [
    "simple.score(X,y)"
   ]
  },
  {
   "cell_type": "markdown",
   "metadata": {
    "id": "XI-dZMCVd6W8"
   },
   "source": [
    "# Multiple Linear Regression "
   ]
  },
  {
   "cell_type": "markdown",
   "metadata": {
    "id": "qapLy-OyyApM"
   },
   "source": [
    "Choose more columns"
   ]
  },
  {
   "cell_type": "code",
   "execution_count": null,
   "metadata": {
    "colab": {
     "base_uri": "https://localhost:8080/"
    },
    "id": "zYke77Ug1a_W",
    "outputId": "a24ec6ae-d4c4-4aba-8eee-b1734aa61ea3"
   },
   "outputs": [
    {
     "data": {
      "text/plain": [
       "['age', 'bmi', 'bp', 's3', 's5']"
      ]
     },
     "execution_count": 57,
     "metadata": {
      "tags": []
     },
     "output_type": "execute_result"
    }
   ],
   "source": [
    "columns = ['age', 'bmi', 'bp', 's3', 's5']\n",
    "columns"
   ]
  },
  {
   "cell_type": "markdown",
   "metadata": {
    "id": "sIUzyWc1yD08"
   },
   "source": [
    "Visuaize the data"
   ]
  },
  {
   "cell_type": "code",
   "execution_count": null,
   "metadata": {
    "colab": {
     "base_uri": "https://localhost:8080/",
     "height": 1000
    },
    "id": "VK24VTH_yjHR",
    "outputId": "cbe9eae4-91b9-4b07-fda9-e21d17be5878"
   },
   "outputs": [
    {
     "data": {
      "image/png": "[encoded data removed]",
      "text/plain": [
       "<Figure size 432x288 with 1 Axes>"
      ]
     },
     "metadata": {
      "needs_background": "light",
      "tags": []
     },
     "output_type": "display_data"
    },
    {
     "data": {
      "image/png": "[encoded data removed]",
      "text/plain": [
       "<Figure size 432x288 with 1 Axes>"
      ]
     },
     "metadata": {
      "needs_background": "light",
      "tags": []
     },
     "output_type": "display_data"
    },
    {
     "data": {
      "image/png": "[encoded data removed]",
      "text/plain": [
       "<Figure size 432x288 with 1 Axes>"
      ]
     },
     "metadata": {
      "needs_background": "light",
      "tags": []
     },
     "output_type": "display_data"
    },
    {
     "data": {
      "image/png": "[encoded data removed]",
      "text/plain": [
       "<Figure size 432x288 with 1 Axes>"
      ]
     },
     "metadata": {
      "needs_background": "light",
      "tags": []
     },
     "output_type": "display_data"
    },
    {
     "data": {
      "image/png": "[encoded data removed]",
      "text/plain": [
       "<Figure size 432x288 with 1 Axes>"
      ]
     },
     "metadata": {
      "needs_background": "light",
      "tags": []
     },
     "output_type": "display_data"
    }
   ],
   "source": [
    "for i in columns:\n",
    "  plt.scatter(features[i], y)\n",
    "  plt.xlabel(str(i))\n",
    "  plt.show() "
   ]
  },
  {
   "cell_type": "markdown",
   "metadata": {
    "id": "DGJjVYVCyHR5"
   },
   "source": [
    "Perform Train-Validation split"
   ]
  },
  {
   "cell_type": "code",
   "execution_count": null,
   "metadata": {
    "id": "LM5cUcMTkQQa"
   },
   "outputs": [],
   "source": [
    "from sklearn.model_selection import train_test_split\n",
    "\n",
    "X = features[columns]\n",
    "# 70% training data, 30% validation data\n",
    "X_train, X_val, y_train, y_val = train_test_split(X, y, test_size=0.2, random_state=6)"
   ]
  },
  {
   "cell_type": "markdown",
   "metadata": {
    "id": "UoTyA8joyK5V"
   },
   "source": [
    "Build model and fit the data"
   ]
  },
  {
   "cell_type": "code",
   "execution_count": null,
   "metadata": {
    "colab": {
     "base_uri": "https://localhost:8080/"
    },
    "id": "ZS3byeAck50S",
    "outputId": "3270e0c8-4e4a-4065-ce62-985b7765a08f"
   },
   "outputs": [
    {
     "data": {
      "text/plain": [
       "LinearRegression(copy_X=True, fit_intercept=True, n_jobs=None, normalize=False)"
      ]
     },
     "execution_count": 86,
     "metadata": {
      "tags": []
     },
     "output_type": "execute_result"
    }
   ],
   "source": [
    "multi = LinearRegression()\n",
    "multi.fit(X_train, y_train)"
   ]
  },
  {
   "cell_type": "markdown",
   "metadata": {
    "id": "_71ju0JQyOi0"
   },
   "source": [
    "What are the weights and intercept?"
   ]
  },
  {
   "cell_type": "code",
   "execution_count": null,
   "metadata": {
    "colab": {
     "base_uri": "https://localhost:8080/"
    },
    "id": "KZb7k2bklOIG",
    "outputId": "d86bc14b-c911-4ccf-f3dc-c4f56390bf35"
   },
   "outputs": [
    {
     "data": {
      "text/plain": [
       "array([[ -79.7520873 ,  595.40113097,  311.49720444, -159.42906869,\n",
       "         496.82564004]])"
      ]
     },
     "execution_count": 90,
     "metadata": {
      "tags": []
     },
     "output_type": "execute_result"
    }
   ],
   "source": [
    "multi.coef_"
   ]
  },
  {
   "cell_type": "code",
   "execution_count": null,
   "metadata": {
    "colab": {
     "base_uri": "https://localhost:8080/"
    },
    "id": "H3-dtc9dl7X8",
    "outputId": "fece2944-80bf-4893-a92c-862c3ebfdafd"
   },
   "outputs": [
    {
     "data": {
      "text/plain": [
       "array([150.16282646])"
      ]
     },
     "execution_count": 91,
     "metadata": {
      "tags": []
     },
     "output_type": "execute_result"
    }
   ],
   "source": [
    "multi.intercept_"
   ]
  },
  {
   "cell_type": "markdown",
   "metadata": {
    "id": "WctJNmX0yUnk"
   },
   "source": [
    "Predictions, error and R-squared value"
   ]
  },
  {
   "cell_type": "code",
   "execution_count": null,
   "metadata": {
    "id": "q1AXp29LmsRq"
   },
   "outputs": [],
   "source": [
    "pred = multi.predict(X_val)\n"
   ]
  },
  {
   "cell_type": "code",
   "execution_count": null,
   "metadata": {
    "colab": {
     "base_uri": "https://localhost:8080/"
    },
    "id": "zOyYSyiJntD5",
    "outputId": "1f7b4a39-aa1b-41d9-b1aa-037fe5b7b1be"
   },
   "outputs": [
    {
     "data": {
      "text/plain": [
       "2920.317471016246"
      ]
     },
     "execution_count": 88,
     "metadata": {
      "tags": []
     },
     "output_type": "execute_result"
    }
   ],
   "source": [
    "mean_squared_error(y_val, pred)"
   ]
  },
  {
   "cell_type": "code",
   "execution_count": null,
   "metadata": {
    "colab": {
     "base_uri": "https://localhost:8080/"
    },
    "id": "xJfqehskn9iv",
    "outputId": "937b4b45-95f7-4aad-930d-9f3b2f39ab77"
   },
   "outputs": [
    {
     "data": {
      "text/plain": [
       "(0.49307015364236917, 0.46527175799338705)"
      ]
     },
     "execution_count": 89,
     "metadata": {
      "tags": []
     },
     "output_type": "execute_result"
    }
   ],
   "source": [
    "multi.score(X_train, y_train), multi.score(X_val, y_val)"
   ]
  },
  {
   "cell_type": "markdown",
   "metadata": {
    "id": "HKmhilMnqVdm"
   },
   "source": [
    "# Using statsmodels Library "
   ]
  },
  {
   "cell_type": "markdown",
   "metadata": {
    "id": "OMDIqMYMyaLq"
   },
   "source": [
    "Import the library, build the model and train it"
   ]
  },
  {
   "cell_type": "code",
   "execution_count": null,
   "metadata": {
    "colab": {
     "base_uri": "https://localhost:8080/",
     "height": 528
    },
    "id": "dMg-Ra-rrCTc",
    "outputId": "d10d5ee0-ef31-47b7-a3e5-346b5f3ad87e"
   },
   "outputs": [
    {
     "data": {
      "text/html": [
       "<table class=\"simpletable\">\n",
       "<caption>OLS Regression Results</caption>\n",
       "<tr>\n",
       "  <th>Dep. Variable:</th>            <td>y</td>        <th>  R-squared:         </th> <td>   0.493</td>\n",
       "</tr>\n",
       "<tr>\n",
       "  <th>Model:</th>                   <td>OLS</td>       <th>  Adj. R-squared:    </th> <td>   0.486</td>\n",
       "</tr>\n",
       "<tr>\n",
       "  <th>Method:</th>             <td>Least Squares</td>  <th>  F-statistic:       </th> <td>   67.50</td>\n",
       "</tr>\n",
       "<tr>\n",
       "  <th>Date:</th>             <td>Wed, 19 May 2021</td> <th>  Prob (F-statistic):</th> <td>3.91e-49</td>\n",
       "</tr>\n",
       "<tr>\n",
       "  <th>Time:</th>                 <td>13:08:31</td>     <th>  Log-Likelihood:    </th> <td> -1917.0</td>\n",
       "</tr>\n",
       "<tr>\n",
       "  <th>No. Observations:</th>      <td>   353</td>      <th>  AIC:               </th> <td>   3846.</td>\n",
       "</tr>\n",
       "<tr>\n",
       "  <th>Df Residuals:</th>          <td>   347</td>      <th>  BIC:               </th> <td>   3869.</td>\n",
       "</tr>\n",
       "<tr>\n",
       "  <th>Df Model:</th>              <td>     5</td>      <th>                     </th>     <td> </td>   \n",
       "</tr>\n",
       "<tr>\n",
       "  <th>Covariance Type:</th>      <td>nonrobust</td>    <th>                     </th>     <td> </td>   \n",
       "</tr>\n",
       "</table>\n",
       "<table class=\"simpletable\">\n",
       "<tr>\n",
       "    <td></td>       <th>coef</th>     <th>std err</th>      <th>t</th>      <th>P>|t|</th>  <th>[0.025</th>    <th>0.975]</th>  \n",
       "</tr>\n",
       "<tr>\n",
       "  <th>const</th> <td>  150.1628</td> <td>    2.967</td> <td>   50.610</td> <td> 0.000</td> <td>  144.327</td> <td>  155.999</td>\n",
       "</tr>\n",
       "<tr>\n",
       "  <th>age</th>   <td>  -79.7521</td> <td>   67.192</td> <td>   -1.187</td> <td> 0.236</td> <td> -211.907</td> <td>   52.403</td>\n",
       "</tr>\n",
       "<tr>\n",
       "  <th>bmi</th>   <td>  595.4011</td> <td>   76.489</td> <td>    7.784</td> <td> 0.000</td> <td>  444.960</td> <td>  745.842</td>\n",
       "</tr>\n",
       "<tr>\n",
       "  <th>bp</th>    <td>  311.4972</td> <td>   72.873</td> <td>    4.274</td> <td> 0.000</td> <td>  168.168</td> <td>  454.826</td>\n",
       "</tr>\n",
       "<tr>\n",
       "  <th>s3</th>    <td> -159.4291</td> <td>   71.616</td> <td>   -2.226</td> <td> 0.027</td> <td> -300.284</td> <td>  -18.574</td>\n",
       "</tr>\n",
       "<tr>\n",
       "  <th>s5</th>    <td>  496.8256</td> <td>   77.142</td> <td>    6.440</td> <td> 0.000</td> <td>  345.102</td> <td>  648.549</td>\n",
       "</tr>\n",
       "</table>\n",
       "<table class=\"simpletable\">\n",
       "<tr>\n",
       "  <th>Omnibus:</th>       <td> 8.844</td> <th>  Durbin-Watson:     </th> <td>   2.066</td>\n",
       "</tr>\n",
       "<tr>\n",
       "  <th>Prob(Omnibus):</th> <td> 0.012</td> <th>  Jarque-Bera (JB):  </th> <td>   6.630</td>\n",
       "</tr>\n",
       "<tr>\n",
       "  <th>Skew:</th>          <td> 0.225</td> <th>  Prob(JB):          </th> <td>  0.0363</td>\n",
       "</tr>\n",
       "<tr>\n",
       "  <th>Kurtosis:</th>      <td> 2.502</td> <th>  Cond. No.          </th> <td>    30.1</td>\n",
       "</tr>\n",
       "</table><br/><br/>Warnings:<br/>[1] Standard Errors assume that the covariance matrix of the errors is correctly specified."
      ],
      "text/plain": [
       "<class 'statsmodels.iolib.summary.Summary'>\n",
       "\"\"\"\n",
       "                            OLS Regression Results                            \n",
       "==============================================================================\n",
       "Dep. Variable:                      y   R-squared:                       0.493\n",
       "Model:                            OLS   Adj. R-squared:                  0.486\n",
       "Method:                 Least Squares   F-statistic:                     67.50\n",
       "Date:                Wed, 19 May 2021   Prob (F-statistic):           3.91e-49\n",
       "Time:                        13:08:31   Log-Likelihood:                -1917.0\n",
       "No. Observations:                 353   AIC:                             3846.\n",
       "Df Residuals:                     347   BIC:                             3869.\n",
       "Df Model:                           5                                         \n",
       "Covariance Type:            nonrobust                                         \n",
       "==============================================================================\n",
       "                 coef    std err          t      P>|t|      [0.025      0.975]\n",
       "------------------------------------------------------------------------------\n",
       "const        150.1628      2.967     50.610      0.000     144.327     155.999\n",
       "age          -79.7521     67.192     -1.187      0.236    -211.907      52.403\n",
       "bmi          595.4011     76.489      7.784      0.000     444.960     745.842\n",
       "bp           311.4972     72.873      4.274      0.000     168.168     454.826\n",
       "s3          -159.4291     71.616     -2.226      0.027    -300.284     -18.574\n",
       "s5           496.8256     77.142      6.440      0.000     345.102     648.549\n",
       "==============================================================================\n",
       "Omnibus:                        8.844   Durbin-Watson:                   2.066\n",
       "Prob(Omnibus):                  0.012   Jarque-Bera (JB):                6.630\n",
       "Skew:                           0.225   Prob(JB):                       0.0363\n",
       "Kurtosis:                       2.502   Cond. No.                         30.1\n",
       "==============================================================================\n",
       "\n",
       "Warnings:\n",
       "[1] Standard Errors assume that the covariance matrix of the errors is correctly specified.\n",
       "\"\"\""
      ]
     },
     "execution_count": 102,
     "metadata": {
      "tags": []
     },
     "output_type": "execute_result"
    }
   ],
   "source": [
    "import statsmodels.api as sm\n",
    "X_train = sm.add_constant(X_train)\n",
    "model = sm.OLS(y_train, X_train).fit()\n",
    "model.summary()"
   ]
  },
  {
   "cell_type": "markdown",
   "metadata": {
    "id": "NxwVHFx3yfvG"
   },
   "source": [
    "Prediction, error calculation"
   ]
  },
  {
   "cell_type": "code",
   "execution_count": null,
   "metadata": {
    "id": "l9pxNBVHtbLC"
   },
   "outputs": [],
   "source": [
    "# Constant (intercept) must be added manually\n",
    "X_val = sm.add_constant(X_val)\n",
    "preds = results.predict(X_val)"
   ]
  },
  {
   "cell_type": "code",
   "execution_count": null,
   "metadata": {
    "colab": {
     "base_uri": "https://localhost:8080/"
    },
    "id": "VXa3qFzPvNjO",
    "outputId": "28871021-eb75-4295-b6ab-0ff4b722cea2"
   },
   "outputs": [
    {
     "data": {
      "text/plain": [
       "2920.3174710162575"
      ]
     },
     "execution_count": 101,
     "metadata": {
      "tags": []
     },
     "output_type": "execute_result"
    }
   ],
   "source": [
    "mean_squared_error(y_val, preds)"
   ]
  },
  {
   "cell_type": "markdown",
   "metadata": {
    "id": "5COODKtQymj-"
   },
   "source": [
    "Both methods perform identically"
   ]
  },
  {
   "cell_type": "markdown",
   "metadata": {
    "id": "Zu6YyrGzxgrO"
   },
   "source": [
    "### Thank you for your time!"
   ]
  }
 ],
 "metadata": {
  "colab": {
   "collapsed_sections": [],
   "name": "Linear Regression.ipynb",
   "provenance": []
  },
  "kernelspec": {
   "display_name": "Python 3 (ipykernel)",
   "language": "python",
   "name": "python3"
  },
  "language_info": {
   "codemirror_mode": {
    "name": "ipython",
    "version": 3
   },
   "file_extension": ".py",
   "mimetype": "text/x-python",
   "name": "python",
   "nbconvert_exporter": "python",
   "pygments_lexer": "ipython3",
   "version": "3.8.12"
  }
 },
 "nbformat": 4,
 "nbformat_minor": 1
}
